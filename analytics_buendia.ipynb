{
 "cells": [
  {
   "cell_type": "markdown",
   "metadata": {},
   "source": [
    "# Analytics"
   ]
  },
  {
   "cell_type": "markdown",
   "metadata": {},
   "source": [
    "#### Date: 2020/02\n",
    "\n",
    "#### SUMMARY:\n",
    "\n",
    "- This notebook represents the project quality analysis of the date exposed right above. "
   ]
  },
  {
   "cell_type": "markdown",
   "metadata": {},
   "source": [
    "### TEAM:\n",
    "\n",
    "##### Semester: 2020/02\n",
    "##### Professor: Hilmer Neri\n",
    "\n",
    "##### Members:\n",
    "\n",
    "- Member x\n",
    "- Member y"
   ]
  },
  {
   "cell_type": "markdown",
   "metadata": {},
   "source": [
    "### LIBRARIES"
   ]
  },
  {
   "cell_type": "code",
   "execution_count": 2,
   "metadata": {},
   "outputs": [],
   "source": [
    "# Deal with data\n",
    "import pandas as pd\n",
    "import numpy as np\n",
    "import json\n",
    "from glob import glob\n",
    "import os\n",
    "\n",
    "# Deal with API request\n",
    "import urllib3\n",
    "from urllib3 import request\n",
    "\n",
    "# Deal with visualization\n",
    "import seaborn as sns\n",
    "import matplotlib.pyplot as plt"
   ]
  },
  {
   "cell_type": "markdown",
   "metadata": {},
   "source": [
    "### GRAPH SETTINGS"
   ]
  },
  {
   "cell_type": "code",
   "execution_count": 3,
   "metadata": {},
   "outputs": [],
   "source": [
    "%config InlineBackend.figure_format ='retina'\n",
    "sns.set(font_scale=1.5)\n",
    "sns.set_style('darkgrid',\n",
    "              {'xtick.bottom' : True,\n",
    "               'ytick.left': True,\n",
    "               'grid.linestyle':'--',\n",
    "               'font.monospace': ['Computer Modern Typewriter'],\n",
    "               'axes.edgecolor' : 'white'})"
   ]
  },
  {
   "cell_type": "markdown",
   "metadata": {},
   "source": [
    "### DATAFRAME SETTINGS"
   ]
  },
  {
   "cell_type": "code",
   "execution_count": 4,
   "metadata": {},
   "outputs": [],
   "source": [
    "pd.set_option(\"display.max_rows\", None, \"display.max_columns\", None)"
   ]
  },
  {
   "cell_type": "markdown",
   "metadata": {},
   "source": [
    "### SonarCloud"
   ]
  },
  {
   "cell_type": "markdown",
   "metadata": {},
   "source": [
    "##### Path to the folder with all your jsons"
   ]
  },
  {
   "cell_type": "code",
   "execution_count": 5,
   "metadata": {},
   "outputs": [],
   "source": [
    "jsons = glob('**/*.json') # add the path here"
   ]
  },
  {
   "cell_type": "code",
   "execution_count": 6,
   "metadata": {},
   "outputs": [],
   "source": [
    "def read_json(json_path):\n",
    "    \n",
    "    with open(json_path) as json_file:\n",
    "        json_obj = json.load(json_file)\n",
    "        \n",
    "    return json_obj\n",
    "\n",
    "def create_base_component_df(json_list):\n",
    "    \n",
    "    df = pd.DataFrame()\n",
    "\n",
    "    for i in json_list:\n",
    "\n",
    "        base_component = read_json(i)\n",
    "\n",
    "        base_component_data = base_component['baseComponent']['measures']\n",
    "\n",
    "        base_component_df = pd.DataFrame(base_component_data)\n",
    "\n",
    "        base_component_df['filename'] = os.path.basename(i)\n",
    "\n",
    "        df = df.append(base_component_df, ignore_index=True)\n",
    "        \n",
    "    aux_df = df['filename'].str.split(r\"fga-eps-mds-2020_2-(.*?)-(.*?).json\", expand=True)\n",
    "    \n",
    "    df['repository'] = aux_df[1]\n",
    "    \n",
    "    df['version'] = aux_df[2]\n",
    "    \n",
    "    df = df.sort_values(by=['repository', 'version'])\n",
    "        \n",
    "    return df"
   ]
  },
  {
   "cell_type": "markdown",
   "metadata": {},
   "source": [
    "#### Create base component dataframe"
   ]
  },
  {
   "cell_type": "code",
   "execution_count": 7,
   "metadata": {
    "tags": []
   },
   "outputs": [],
   "source": [
    "base_component_df = create_base_component_df(jsons)"
   ]
  },
  {
   "cell_type": "code",
   "execution_count": 8,
   "metadata": {},
   "outputs": [
    {
     "data": {
      "text/html": [
       "<div>\n",
       "<style scoped>\n",
       "    .dataframe tbody tr th:only-of-type {\n",
       "        vertical-align: middle;\n",
       "    }\n",
       "\n",
       "    .dataframe tbody tr th {\n",
       "        vertical-align: top;\n",
       "    }\n",
       "\n",
       "    .dataframe thead th {\n",
       "        text-align: right;\n",
       "    }\n",
       "</style>\n",
       "<table border=\"1\" class=\"dataframe\">\n",
       "  <thead>\n",
       "    <tr style=\"text-align: right;\">\n",
       "      <th></th>\n",
       "      <th>metric</th>\n",
       "      <th>value</th>\n",
       "      <th>bestValue</th>\n",
       "      <th>filename</th>\n",
       "      <th>repository</th>\n",
       "      <th>version</th>\n",
       "    </tr>\n",
       "  </thead>\n",
       "  <tbody>\n",
       "    <tr>\n",
       "      <th>512</th>\n",
       "      <td>duplicated_lines_density</td>\n",
       "      <td>0.0</td>\n",
       "      <td>True</td>\n",
       "      <td>fga-eps-mds-2020_2-Eccoar_Complaint-01-05-2021...</td>\n",
       "      <td>Eccoar_Complaint</td>\n",
       "      <td>01-05-2021</td>\n",
       "    </tr>\n",
       "    <tr>\n",
       "      <th>513</th>\n",
       "      <td>functions</td>\n",
       "      <td>42</td>\n",
       "      <td>NaN</td>\n",
       "      <td>fga-eps-mds-2020_2-Eccoar_Complaint-01-05-2021...</td>\n",
       "      <td>Eccoar_Complaint</td>\n",
       "      <td>01-05-2021</td>\n",
       "    </tr>\n",
       "    <tr>\n",
       "      <th>514</th>\n",
       "      <td>test_execution_time</td>\n",
       "      <td>70</td>\n",
       "      <td>NaN</td>\n",
       "      <td>fga-eps-mds-2020_2-Eccoar_Complaint-01-05-2021...</td>\n",
       "      <td>Eccoar_Complaint</td>\n",
       "      <td>01-05-2021</td>\n",
       "    </tr>\n",
       "    <tr>\n",
       "      <th>515</th>\n",
       "      <td>security_rating</td>\n",
       "      <td>1.0</td>\n",
       "      <td>True</td>\n",
       "      <td>fga-eps-mds-2020_2-Eccoar_Complaint-01-05-2021...</td>\n",
       "      <td>Eccoar_Complaint</td>\n",
       "      <td>01-05-2021</td>\n",
       "    </tr>\n",
       "    <tr>\n",
       "      <th>516</th>\n",
       "      <td>tests</td>\n",
       "      <td>21</td>\n",
       "      <td>NaN</td>\n",
       "      <td>fga-eps-mds-2020_2-Eccoar_Complaint-01-05-2021...</td>\n",
       "      <td>Eccoar_Complaint</td>\n",
       "      <td>01-05-2021</td>\n",
       "    </tr>\n",
       "    <tr>\n",
       "      <th>517</th>\n",
       "      <td>files</td>\n",
       "      <td>19</td>\n",
       "      <td>NaN</td>\n",
       "      <td>fga-eps-mds-2020_2-Eccoar_Complaint-01-05-2021...</td>\n",
       "      <td>Eccoar_Complaint</td>\n",
       "      <td>01-05-2021</td>\n",
       "    </tr>\n",
       "    <tr>\n",
       "      <th>518</th>\n",
       "      <td>complexity</td>\n",
       "      <td>60</td>\n",
       "      <td>NaN</td>\n",
       "      <td>fga-eps-mds-2020_2-Eccoar_Complaint-01-05-2021...</td>\n",
       "      <td>Eccoar_Complaint</td>\n",
       "      <td>01-05-2021</td>\n",
       "    </tr>\n",
       "    <tr>\n",
       "      <th>519</th>\n",
       "      <td>ncloc</td>\n",
       "      <td>626</td>\n",
       "      <td>NaN</td>\n",
       "      <td>fga-eps-mds-2020_2-Eccoar_Complaint-01-05-2021...</td>\n",
       "      <td>Eccoar_Complaint</td>\n",
       "      <td>01-05-2021</td>\n",
       "    </tr>\n",
       "    <tr>\n",
       "      <th>520</th>\n",
       "      <td>coverage</td>\n",
       "      <td>68.2</td>\n",
       "      <td>False</td>\n",
       "      <td>fga-eps-mds-2020_2-Eccoar_Complaint-01-05-2021...</td>\n",
       "      <td>Eccoar_Complaint</td>\n",
       "      <td>01-05-2021</td>\n",
       "    </tr>\n",
       "    <tr>\n",
       "      <th>521</th>\n",
       "      <td>reliability_rating</td>\n",
       "      <td>1.0</td>\n",
       "      <td>True</td>\n",
       "      <td>fga-eps-mds-2020_2-Eccoar_Complaint-01-05-2021...</td>\n",
       "      <td>Eccoar_Complaint</td>\n",
       "      <td>01-05-2021</td>\n",
       "    </tr>\n",
       "  </tbody>\n",
       "</table>\n",
       "</div>"
      ],
      "text/plain": [
       "                       metric value bestValue  \\\n",
       "512  duplicated_lines_density   0.0      True   \n",
       "513                 functions    42       NaN   \n",
       "514       test_execution_time    70       NaN   \n",
       "515           security_rating   1.0      True   \n",
       "516                     tests    21       NaN   \n",
       "517                     files    19       NaN   \n",
       "518                complexity    60       NaN   \n",
       "519                     ncloc   626       NaN   \n",
       "520                  coverage  68.2     False   \n",
       "521        reliability_rating   1.0      True   \n",
       "\n",
       "                                              filename        repository  \\\n",
       "512  fga-eps-mds-2020_2-Eccoar_Complaint-01-05-2021...  Eccoar_Complaint   \n",
       "513  fga-eps-mds-2020_2-Eccoar_Complaint-01-05-2021...  Eccoar_Complaint   \n",
       "514  fga-eps-mds-2020_2-Eccoar_Complaint-01-05-2021...  Eccoar_Complaint   \n",
       "515  fga-eps-mds-2020_2-Eccoar_Complaint-01-05-2021...  Eccoar_Complaint   \n",
       "516  fga-eps-mds-2020_2-Eccoar_Complaint-01-05-2021...  Eccoar_Complaint   \n",
       "517  fga-eps-mds-2020_2-Eccoar_Complaint-01-05-2021...  Eccoar_Complaint   \n",
       "518  fga-eps-mds-2020_2-Eccoar_Complaint-01-05-2021...  Eccoar_Complaint   \n",
       "519  fga-eps-mds-2020_2-Eccoar_Complaint-01-05-2021...  Eccoar_Complaint   \n",
       "520  fga-eps-mds-2020_2-Eccoar_Complaint-01-05-2021...  Eccoar_Complaint   \n",
       "521  fga-eps-mds-2020_2-Eccoar_Complaint-01-05-2021...  Eccoar_Complaint   \n",
       "\n",
       "        version  \n",
       "512  01-05-2021  \n",
       "513  01-05-2021  \n",
       "514  01-05-2021  \n",
       "515  01-05-2021  \n",
       "516  01-05-2021  \n",
       "517  01-05-2021  \n",
       "518  01-05-2021  \n",
       "519  01-05-2021  \n",
       "520  01-05-2021  \n",
       "521  01-05-2021  "
      ]
     },
     "execution_count": 8,
     "metadata": {},
     "output_type": "execute_result"
    }
   ],
   "source": [
    "base_component_df.head(10)"
   ]
  },
  {
   "cell_type": "markdown",
   "metadata": {},
   "source": [
    "#### Create dataframe per file"
   ]
  },
  {
   "cell_type": "code",
   "execution_count": 9,
   "metadata": {},
   "outputs": [
    {
     "data": {
      "text/plain": [
       "12"
      ]
     },
     "execution_count": 9,
     "metadata": {},
     "output_type": "execute_result"
    }
   ],
   "source": [
    "metric_list = ['files',\n",
    "               'functions',\n",
    "               'complexity',\n",
    "               'comment_lines_density',\n",
    "               'duplicated_lines_density',\n",
    "               'coverage',\n",
    "               'ncloc',\n",
    "               'security_rating',\n",
    "               'tests',\n",
    "               'test_success_density',\n",
    "               'test_execution_time',\n",
    "               'reliability_rating']\n",
    "\n",
    "len(metric_list)"
   ]
  },
  {
   "cell_type": "code",
   "execution_count": 10,
   "metadata": {},
   "outputs": [],
   "source": [
    "def metric_per_file(json):\n",
    "    \n",
    "    file_json = []\n",
    "    \n",
    "    for component in json['components']:\n",
    "        if component['qualifier'] == 'FIL':\n",
    "            file_json.append(component)\n",
    "            \n",
    "    return file_json\n",
    "\n",
    "def generate_file_dataframe_per_release(metric_list, json, language_extension):\n",
    "    \n",
    "    df_columns = metric_list\n",
    "    df = pd.DataFrame(columns = df_columns)\n",
    "    \n",
    "    for file in json:\n",
    "        try:\n",
    "            if file['language'] == language_extension:\n",
    "                for measure in file['measures']:\n",
    "                    df.at[file['path'], measure['metric']] = measure['value']\n",
    "        except:\n",
    "            pass\n",
    "        \n",
    "    df.reset_index(inplace = True)\n",
    "    df = df.rename({'index': 'path'}, axis=1).drop(['files'], axis=1)\n",
    "\n",
    "    return df\n",
    "\n",
    "def create_file_df(json_list):\n",
    "    \n",
    "    df = pd.DataFrame()\n",
    "\n",
    "    for i in json_list:\n",
    "\n",
    "        file_component = read_json(i)\n",
    "        \n",
    "        file_component_data = metric_per_file(file_component)\n",
    "\n",
    "        file_component_df = generate_file_dataframe_per_release(metric_list, file_component_data, language_extension = 'ts')\n",
    "\n",
    "        file_component_df['filename'] = os.path.basename(i)\n",
    "\n",
    "        df = df.append(file_component_df, ignore_index=True)\n",
    "        \n",
    "    # replace TeamName by yours.    \n",
    "    aux_df = df['filename'].str.split(r\"fga-eps-mds-2020_2-(.*?)-(.*?).json\", expand=True)\n",
    "    \n",
    "    df['repository'] = aux_df[1]\n",
    "    \n",
    "    df['version'] = aux_df[2]\n",
    "    \n",
    "    df = df.sort_values(by=['repository', 'version'])\n",
    "        \n",
    "    return df"
   ]
  },
  {
   "cell_type": "code",
   "execution_count": 11,
   "metadata": {
    "tags": []
   },
   "outputs": [],
   "source": [
    "file_component_df = create_file_df(jsons)"
   ]
  },
  {
   "cell_type": "code",
   "execution_count": 12,
   "metadata": {},
   "outputs": [
    {
     "data": {
      "text/html": [
       "<div>\n",
       "<style scoped>\n",
       "    .dataframe tbody tr th:only-of-type {\n",
       "        vertical-align: middle;\n",
       "    }\n",
       "\n",
       "    .dataframe tbody tr th {\n",
       "        vertical-align: top;\n",
       "    }\n",
       "\n",
       "    .dataframe thead th {\n",
       "        text-align: right;\n",
       "    }\n",
       "</style>\n",
       "<table border=\"1\" class=\"dataframe\">\n",
       "  <thead>\n",
       "    <tr style=\"text-align: right;\">\n",
       "      <th></th>\n",
       "      <th>path</th>\n",
       "      <th>functions</th>\n",
       "      <th>complexity</th>\n",
       "      <th>comment_lines_density</th>\n",
       "      <th>duplicated_lines_density</th>\n",
       "      <th>coverage</th>\n",
       "      <th>ncloc</th>\n",
       "      <th>security_rating</th>\n",
       "      <th>tests</th>\n",
       "      <th>test_success_density</th>\n",
       "      <th>test_execution_time</th>\n",
       "      <th>reliability_rating</th>\n",
       "      <th>filename</th>\n",
       "      <th>repository</th>\n",
       "      <th>version</th>\n",
       "    </tr>\n",
       "  </thead>\n",
       "  <tbody>\n",
       "    <tr>\n",
       "      <th>565</th>\n",
       "      <td>src/migration/1618526567509-CreateComplaint.ts</td>\n",
       "      <td>2</td>\n",
       "      <td>2</td>\n",
       "      <td>0.0</td>\n",
       "      <td>0.0</td>\n",
       "      <td>0.0</td>\n",
       "      <td>76</td>\n",
       "      <td>1.0</td>\n",
       "      <td>NaN</td>\n",
       "      <td>100.0</td>\n",
       "      <td>NaN</td>\n",
       "      <td>1.0</td>\n",
       "      <td>fga-eps-mds-2020_2-Eccoar_Complaint-01-05-2021...</td>\n",
       "      <td>Eccoar_Complaint</td>\n",
       "      <td>01-05-2021</td>\n",
       "    </tr>\n",
       "    <tr>\n",
       "      <th>566</th>\n",
       "      <td>src/migration/1618529825437-CreateVote.ts</td>\n",
       "      <td>2</td>\n",
       "      <td>2</td>\n",
       "      <td>0.0</td>\n",
       "      <td>0.0</td>\n",
       "      <td>0.0</td>\n",
       "      <td>38</td>\n",
       "      <td>1.0</td>\n",
       "      <td>NaN</td>\n",
       "      <td>100.0</td>\n",
       "      <td>NaN</td>\n",
       "      <td>1.0</td>\n",
       "      <td>fga-eps-mds-2020_2-Eccoar_Complaint-01-05-2021...</td>\n",
       "      <td>Eccoar_Complaint</td>\n",
       "      <td>01-05-2021</td>\n",
       "    </tr>\n",
       "    <tr>\n",
       "      <th>567</th>\n",
       "      <td>src/utils/Category.ts</td>\n",
       "      <td>0</td>\n",
       "      <td>0</td>\n",
       "      <td>0.0</td>\n",
       "      <td>0.0</td>\n",
       "      <td>100.0</td>\n",
       "      <td>5</td>\n",
       "      <td>1.0</td>\n",
       "      <td>NaN</td>\n",
       "      <td>100.0</td>\n",
       "      <td>NaN</td>\n",
       "      <td>1.0</td>\n",
       "      <td>fga-eps-mds-2020_2-Eccoar_Complaint-01-05-2021...</td>\n",
       "      <td>Eccoar_Complaint</td>\n",
       "      <td>01-05-2021</td>\n",
       "    </tr>\n",
       "    <tr>\n",
       "      <th>568</th>\n",
       "      <td>src/entity/Complaint.ts</td>\n",
       "      <td>0</td>\n",
       "      <td>0</td>\n",
       "      <td>0.0</td>\n",
       "      <td>0.0</td>\n",
       "      <td>100.0</td>\n",
       "      <td>36</td>\n",
       "      <td>1.0</td>\n",
       "      <td>NaN</td>\n",
       "      <td>100.0</td>\n",
       "      <td>NaN</td>\n",
       "      <td>1.0</td>\n",
       "      <td>fga-eps-mds-2020_2-Eccoar_Complaint-01-05-2021...</td>\n",
       "      <td>Eccoar_Complaint</td>\n",
       "      <td>01-05-2021</td>\n",
       "    </tr>\n",
       "    <tr>\n",
       "      <th>569</th>\n",
       "      <td>src/repositories/ComplaintRepository.ts</td>\n",
       "      <td>7</td>\n",
       "      <td>7</td>\n",
       "      <td>0.0</td>\n",
       "      <td>0.0</td>\n",
       "      <td>61.3</td>\n",
       "      <td>80</td>\n",
       "      <td>1.0</td>\n",
       "      <td>NaN</td>\n",
       "      <td>100.0</td>\n",
       "      <td>NaN</td>\n",
       "      <td>1.0</td>\n",
       "      <td>fga-eps-mds-2020_2-Eccoar_Complaint-01-05-2021...</td>\n",
       "      <td>Eccoar_Complaint</td>\n",
       "      <td>01-05-2021</td>\n",
       "    </tr>\n",
       "    <tr>\n",
       "      <th>570</th>\n",
       "      <td>src/utils/ComplaintUpvote.ts</td>\n",
       "      <td>1</td>\n",
       "      <td>3</td>\n",
       "      <td>0.0</td>\n",
       "      <td>0.0</td>\n",
       "      <td>63.6</td>\n",
       "      <td>16</td>\n",
       "      <td>1.0</td>\n",
       "      <td>NaN</td>\n",
       "      <td>100.0</td>\n",
       "      <td>NaN</td>\n",
       "      <td>1.0</td>\n",
       "      <td>fga-eps-mds-2020_2-Eccoar_Complaint-01-05-2021...</td>\n",
       "      <td>Eccoar_Complaint</td>\n",
       "      <td>01-05-2021</td>\n",
       "    </tr>\n",
       "    <tr>\n",
       "      <th>571</th>\n",
       "      <td>src/utils/ComplaintVote.ts</td>\n",
       "      <td>0</td>\n",
       "      <td>0</td>\n",
       "      <td>0.0</td>\n",
       "      <td>0.0</td>\n",
       "      <td>NaN</td>\n",
       "      <td>9</td>\n",
       "      <td>1.0</td>\n",
       "      <td>NaN</td>\n",
       "      <td>100.0</td>\n",
       "      <td>NaN</td>\n",
       "      <td>1.0</td>\n",
       "      <td>fga-eps-mds-2020_2-Eccoar_Complaint-01-05-2021...</td>\n",
       "      <td>Eccoar_Complaint</td>\n",
       "      <td>01-05-2021</td>\n",
       "    </tr>\n",
       "    <tr>\n",
       "      <th>572</th>\n",
       "      <td>src/utils/ComplaintVoteConfirmed.ts</td>\n",
       "      <td>1</td>\n",
       "      <td>3</td>\n",
       "      <td>0.0</td>\n",
       "      <td>0.0</td>\n",
       "      <td>92.3</td>\n",
       "      <td>18</td>\n",
       "      <td>1.0</td>\n",
       "      <td>NaN</td>\n",
       "      <td>100.0</td>\n",
       "      <td>NaN</td>\n",
       "      <td>1.0</td>\n",
       "      <td>fga-eps-mds-2020_2-Eccoar_Complaint-01-05-2021...</td>\n",
       "      <td>Eccoar_Complaint</td>\n",
       "      <td>01-05-2021</td>\n",
       "    </tr>\n",
       "    <tr>\n",
       "      <th>573</th>\n",
       "      <td>src/utils/ComplaintWithVote.ts</td>\n",
       "      <td>0</td>\n",
       "      <td>0</td>\n",
       "      <td>0.0</td>\n",
       "      <td>0.0</td>\n",
       "      <td>NaN</td>\n",
       "      <td>18</td>\n",
       "      <td>1.0</td>\n",
       "      <td>NaN</td>\n",
       "      <td>100.0</td>\n",
       "      <td>NaN</td>\n",
       "      <td>1.0</td>\n",
       "      <td>fga-eps-mds-2020_2-Eccoar_Complaint-01-05-2021...</td>\n",
       "      <td>Eccoar_Complaint</td>\n",
       "      <td>01-05-2021</td>\n",
       "    </tr>\n",
       "    <tr>\n",
       "      <th>574</th>\n",
       "      <td>src/controllers/ControllerComplaint.ts</td>\n",
       "      <td>13</td>\n",
       "      <td>24</td>\n",
       "      <td>0.0</td>\n",
       "      <td>0.0</td>\n",
       "      <td>90.3</td>\n",
       "      <td>170</td>\n",
       "      <td>1.0</td>\n",
       "      <td>NaN</td>\n",
       "      <td>100.0</td>\n",
       "      <td>NaN</td>\n",
       "      <td>1.0</td>\n",
       "      <td>fga-eps-mds-2020_2-Eccoar_Complaint-01-05-2021...</td>\n",
       "      <td>Eccoar_Complaint</td>\n",
       "      <td>01-05-2021</td>\n",
       "    </tr>\n",
       "  </tbody>\n",
       "</table>\n",
       "</div>"
      ],
      "text/plain": [
       "                                               path functions complexity  \\\n",
       "565  src/migration/1618526567509-CreateComplaint.ts         2          2   \n",
       "566       src/migration/1618529825437-CreateVote.ts         2          2   \n",
       "567                           src/utils/Category.ts         0          0   \n",
       "568                         src/entity/Complaint.ts         0          0   \n",
       "569         src/repositories/ComplaintRepository.ts         7          7   \n",
       "570                    src/utils/ComplaintUpvote.ts         1          3   \n",
       "571                      src/utils/ComplaintVote.ts         0          0   \n",
       "572             src/utils/ComplaintVoteConfirmed.ts         1          3   \n",
       "573                  src/utils/ComplaintWithVote.ts         0          0   \n",
       "574          src/controllers/ControllerComplaint.ts        13         24   \n",
       "\n",
       "    comment_lines_density duplicated_lines_density coverage ncloc  \\\n",
       "565                   0.0                      0.0      0.0    76   \n",
       "566                   0.0                      0.0      0.0    38   \n",
       "567                   0.0                      0.0    100.0     5   \n",
       "568                   0.0                      0.0    100.0    36   \n",
       "569                   0.0                      0.0     61.3    80   \n",
       "570                   0.0                      0.0     63.6    16   \n",
       "571                   0.0                      0.0      NaN     9   \n",
       "572                   0.0                      0.0     92.3    18   \n",
       "573                   0.0                      0.0      NaN    18   \n",
       "574                   0.0                      0.0     90.3   170   \n",
       "\n",
       "    security_rating tests test_success_density test_execution_time  \\\n",
       "565             1.0   NaN                100.0                 NaN   \n",
       "566             1.0   NaN                100.0                 NaN   \n",
       "567             1.0   NaN                100.0                 NaN   \n",
       "568             1.0   NaN                100.0                 NaN   \n",
       "569             1.0   NaN                100.0                 NaN   \n",
       "570             1.0   NaN                100.0                 NaN   \n",
       "571             1.0   NaN                100.0                 NaN   \n",
       "572             1.0   NaN                100.0                 NaN   \n",
       "573             1.0   NaN                100.0                 NaN   \n",
       "574             1.0   NaN                100.0                 NaN   \n",
       "\n",
       "    reliability_rating                                           filename  \\\n",
       "565                1.0  fga-eps-mds-2020_2-Eccoar_Complaint-01-05-2021...   \n",
       "566                1.0  fga-eps-mds-2020_2-Eccoar_Complaint-01-05-2021...   \n",
       "567                1.0  fga-eps-mds-2020_2-Eccoar_Complaint-01-05-2021...   \n",
       "568                1.0  fga-eps-mds-2020_2-Eccoar_Complaint-01-05-2021...   \n",
       "569                1.0  fga-eps-mds-2020_2-Eccoar_Complaint-01-05-2021...   \n",
       "570                1.0  fga-eps-mds-2020_2-Eccoar_Complaint-01-05-2021...   \n",
       "571                1.0  fga-eps-mds-2020_2-Eccoar_Complaint-01-05-2021...   \n",
       "572                1.0  fga-eps-mds-2020_2-Eccoar_Complaint-01-05-2021...   \n",
       "573                1.0  fga-eps-mds-2020_2-Eccoar_Complaint-01-05-2021...   \n",
       "574                1.0  fga-eps-mds-2020_2-Eccoar_Complaint-01-05-2021...   \n",
       "\n",
       "           repository     version  \n",
       "565  Eccoar_Complaint  01-05-2021  \n",
       "566  Eccoar_Complaint  01-05-2021  \n",
       "567  Eccoar_Complaint  01-05-2021  \n",
       "568  Eccoar_Complaint  01-05-2021  \n",
       "569  Eccoar_Complaint  01-05-2021  \n",
       "570  Eccoar_Complaint  01-05-2021  \n",
       "571  Eccoar_Complaint  01-05-2021  \n",
       "572  Eccoar_Complaint  01-05-2021  \n",
       "573  Eccoar_Complaint  01-05-2021  \n",
       "574  Eccoar_Complaint  01-05-2021  "
      ]
     },
     "execution_count": 12,
     "metadata": {},
     "output_type": "execute_result"
    }
   ],
   "source": [
    "file_component_df.head(10)"
   ]
  },
  {
   "cell_type": "code",
   "execution_count": 13,
   "metadata": {},
   "outputs": [],
   "source": [
    "file_component_df.to_excel('data/data.xlsx', index = False)"
   ]
  },
  {
   "cell_type": "markdown",
   "metadata": {},
   "source": [
    "#### Create dataframe per repository"
   ]
  },
  {
   "cell_type": "code",
   "execution_count": 14,
   "metadata": {},
   "outputs": [
    {
     "data": {
      "text/plain": [
       "Ellipsis"
      ]
     },
     "execution_count": 14,
     "metadata": {},
     "output_type": "execute_result"
    }
   ],
   "source": [
    "# Example\n",
    "\n",
    "eccoar_complaint_df = file_component_df[file_component_df['repository'] == 'Eccoar_Complaint']\n",
    "eccoar_gateway_df = file_component_df[file_component_df['repository'] == 'Eccoar_Gateway']\n",
    "eccoar_frontend_df = file_component_df[file_component_df['repository'] == 'eccoar_frontend']\n",
    "eccoar_reports_df = file_component_df[file_component_df['repository'] == 'Eccoar_Reports']\n",
    "eccoar_mailer_df = file_component_df[file_component_df['repository'] == 'Eccoar_Mailer']\n",
    "eccoar_users_df = file_component_df[file_component_df['repository'] == 'Eccoar_Users']\n",
    "..."
   ]
  },
  {
   "cell_type": "markdown",
   "metadata": {},
   "source": [
    "### Metric calculations"
   ]
  },
  {
   "cell_type": "markdown",
   "metadata": {},
   "source": [
    "##### COMPLEXITY"
   ]
  },
  {
   "cell_type": "code",
   "execution_count": 15,
   "metadata": {},
   "outputs": [],
   "source": [
    "def m1(df):\n",
    "    \n",
    "    density_non_complex_files = len(df[(df['complexity'].astype(float)/df['functions'].astype(float)) < 10])/len(df)\n",
    "    \n",
    "    return density_non_complex_files"
   ]
  },
  {
   "cell_type": "markdown",
   "metadata": {},
   "source": [
    "##### COMMENTS"
   ]
  },
  {
   "cell_type": "code",
   "execution_count": 16,
   "metadata": {},
   "outputs": [],
   "source": [
    "def m2(df):\n",
    "    \n",
    "    density_comment_files = len(df[(df['comment_lines_density'].astype(float) > 10) & (df['comment_lines_density'].astype(float) < 30)])/len(df)\n",
    "    \n",
    "    return density_comment_files"
   ]
  },
  {
   "cell_type": "markdown",
   "metadata": {},
   "source": [
    "##### DUPLICATIONS"
   ]
  },
  {
   "cell_type": "code",
   "execution_count": 17,
   "metadata": {},
   "outputs": [],
   "source": [
    "def m3(df):\n",
    "    \n",
    "    duplication = len(df[(df['duplicated_lines_density'].astype(float) < 5)])/len(df)\n",
    "    \n",
    "    return duplication"
   ]
  },
  {
   "cell_type": "code",
   "execution_count": null,
   "metadata": {},
   "outputs": [],
   "source": [
    "##### RESOLVED ISSUES' THROUGHPUT"
   ]
  },
  {
   "cell_type": "code",
   "execution_count": null,
   "metadata": {},
   "outputs": [],
   "source": [
    "def m7(number_of_issues_resolved, number_of_issues):\n",
    "    \n",
    "    resolved_issues_throughput = round((number_of_issues_resolved / number_of_issues) * 100, 2)\n",
    "    \n",
    "    return resolved_issues_throughput"
   ]
  },
  {
   "cell_type": "code",
   "execution_count": null,
   "metadata": {},
   "outputs": [],
   "source": [
    "##### ISSUE TYPE IN A TIMEFRAME\n"
   ]
  },
  {
   "cell_type": "code",
   "execution_count": null,
   "metadata": {},
   "outputs": [],
   "source": [
    "def density(issue, number_of_issues):\n",
    "    issue_density = round((issue / number_of_issues) * 100, 2)\n",
    "    return issue_density"
   ]
  },
  {
   "cell_type": "code",
   "execution_count": null,
   "metadata": {},
   "outputs": [],
   "source": [
    "def m8(tag_dict, number_of_issues):\n",
    "    \n",
    "    issue_densities = {\n",
    "        \"hotfix\": [density(tag_dict[\"HOTFIX\"], number_of_issues)],\n",
    "        \"docs\": [density(tag_dict[\"DOCS\"], number_of_issues)],\n",
    "        \"feature\": [density(tag_dict[\"FEATURE\"], number_of_issues)],\n",
    "        \"arq\": [density(tag_dict[\"ARQ\"], number_of_issues)],\n",
    "        \"devops\": [density(tag_dict[\"DEVOPS\"], number_of_issues)],\n",
    "        \"analytics\": [density(tag_dict[\"ANALYTICS\"], number_of_issues)],\n",
    "        \"us\": [density(tag_dict[\"US\"], number_of_issues)],\n",
    "        \"easy\": [density(tag_dict[\"EASY\"], number_of_issues)],\n",
    "        \"medium\": [density(tag_dict[\"MEDIUM\"], number_of_issues)],\n",
    "        \"hard\": [density(tag_dict[\"HARD\"], number_of_issues)],\n",
    "        \"eps\": [density(tag_dict[\"EPS\"], number_of_issues)],\n",
    "        \"mds\": [density(tag_dict[\"MDS\"], number_of_issues)]\n",
    "    }\n",
    "\n",
    "    issue_densities = pd.DataFrame.from_dict(issue_densities).T.reset_index()\n",
    "    \n",
    "    issue_densities.columns = ['density' ,'percentage']\n",
    "    \n",
    "    return issue_densities"
   ]
  },
  {
   "cell_type": "code",
   "execution_count": null,
   "metadata": {},
   "outputs": [],
   "source": [
    "##### BUGS RATIO"
   ]
  },
  {
   "cell_type": "code",
   "execution_count": null,
   "metadata": {},
   "outputs": [],
   "source": [
    "def m9(tag_dict, number_of_issues):\n",
    "\n",
    "    bugs_ratio = round(((tag_dict[\"DOCS\"] + tag_dict[\"FEATURE\"] + tag_dict[\"ARQ\"] + tag_dict[\"DEVOPS\"] + tag_dict[\"ANALYTICS\"]) / number_of_issues) * 100, 2)\n",
    "    \n",
    "    return bugs_ratio"
   ]
  },
  {
   "cell_type": "code",
   "execution_count": null,
   "metadata": {},
   "outputs": [],
   "source": [
    "TAGS = {\n",
    "    'HOTFIX': 15,\n",
    "    'DOCS': 121,\n",
    "    'FEATURE': 32,\n",
    "    'ARQ': 15,\n",
    "    'DEVOPS': 12,\n",
    "    'ANALYTICS': 23,\n",
    "    'US': 19,\n",
    "    'EASY': 28,\n",
    "    'MEDIUM': 22,\n",
    "    'HARD': 7,\n",
    "    'EPS': 61,\n",
    "    'MDS': 41\n",
    "}\n",
    "NUMBER_OF_ISSUES_RESOLVED=201\n",
    "NUMBER_OF_ISSUES=236"
   ]
  },
  {
   "cell_type": "markdown",
   "metadata": {},
   "source": [
    "### Calculate m1, m2 and m3 for each repository"
   ]
  },
  {
   "cell_type": "code",
   "execution_count": 18,
   "metadata": {},
   "outputs": [],
   "source": [
    "def create_metrics_df(df):\n",
    "    \n",
    "    version_vec = df['version'].unique()\n",
    "    \n",
    "    m1_list = []\n",
    "    m2_list = []\n",
    "    m3_list = []\n",
    "    repository_list = []\n",
    "    version_list = []\n",
    "    \n",
    "    metrics_df = pd.DataFrame()\n",
    "    \n",
    "    for version in version_vec:\n",
    "\n",
    "        version_df = df[df['version'] == version]\n",
    "\n",
    "        m1_list.append(m1(version_df))\n",
    "        m2_list.append(m2(version_df))\n",
    "        m3_list.append(m3(version_df))\n",
    "        repository_list.append(version_df['repository'].iloc[0])\n",
    "        version_list.append(version)\n",
    "        \n",
    "    metrics_df = pd.DataFrame({'m1': m1_list,\n",
    "                               'm2': m2_list,\n",
    "                               'm3': m3_list,\n",
    "                               'repository': repository_list, \n",
    "                               'version': version_list})\n",
    "        \n",
    "    return metrics_df"
   ]
  },
  {
   "cell_type": "code",
   "execution_count": 25,
   "metadata": {},
   "outputs": [
    {
     "data": {
      "text/plain": [
       "Ellipsis"
      ]
     },
     "execution_count": 25,
     "metadata": {},
     "output_type": "execute_result"
    }
   ],
   "source": [
    "eccoar_gateway_metrics = create_metrics_df(eccoar_gateway_df)\n",
    "eccoar_complaint_metrics = create_metrics_df(eccoar_complaint_df)\n",
    "eccoar_frontend_metrics = create_metrics_df(eccoar_frontend_df)\n",
    "eccoar_mailer_metrics = create_metrics_df(eccoar_mailer_df)\n",
    "eccoar_reports_metrics = create_metrics_df(eccoar_reports_df)\n",
    "eccoar_users_metrics = create_metrics_df(eccoar_users_df)\n",
    "file_component_metrics = create_metrics_df(file_component_df)\n",
    "..."
   ]
  },
  {
   "cell_type": "markdown",
   "metadata": {},
   "source": [
    "### Data visualization\n",
    "\n",
    "- You must do this for each of your repositories"
   ]
  },
  {
   "cell_type": "code",
   "execution_count": 20,
   "metadata": {},
   "outputs": [
    {
     "ename": "NameError",
     "evalue": "name 'repo1' is not defined",
     "output_type": "error",
     "traceback": [
      "\u001b[0;31m---------------------------------------------------------------------------\u001b[0m",
      "\u001b[0;31mNameError\u001b[0m                                 Traceback (most recent call last)",
      "\u001b[0;32m<ipython-input-20-22a51ba0e5a2>\u001b[0m in \u001b[0;36m<module>\u001b[0;34m\u001b[0m\n\u001b[1;32m      1\u001b[0m \u001b[0mfig\u001b[0m \u001b[0;34m=\u001b[0m \u001b[0mplt\u001b[0m\u001b[0;34m.\u001b[0m\u001b[0mfigure\u001b[0m\u001b[0;34m(\u001b[0m\u001b[0mfigsize\u001b[0m\u001b[0;34m=\u001b[0m\u001b[0;34m(\u001b[0m\u001b[0;36m20\u001b[0m\u001b[0;34m,\u001b[0m \u001b[0;36m10\u001b[0m\u001b[0;34m)\u001b[0m\u001b[0;34m)\u001b[0m\u001b[0;34m\u001b[0m\u001b[0;34m\u001b[0m\u001b[0m\n\u001b[1;32m      2\u001b[0m \u001b[0;34m\u001b[0m\u001b[0m\n\u001b[0;32m----> 3\u001b[0;31m \u001b[0mplt\u001b[0m\u001b[0;34m.\u001b[0m\u001b[0mplot\u001b[0m\u001b[0;34m(\u001b[0m\u001b[0mrepo1\u001b[0m\u001b[0;34m[\u001b[0m\u001b[0;34m'm1'\u001b[0m\u001b[0;34m]\u001b[0m\u001b[0;34m,\u001b[0m \u001b[0mlinewidth\u001b[0m\u001b[0;34m=\u001b[0m\u001b[0;36m3\u001b[0m\u001b[0;34m,\u001b[0m \u001b[0mmarker\u001b[0m\u001b[0;34m=\u001b[0m\u001b[0;34m'o'\u001b[0m\u001b[0;34m,\u001b[0m \u001b[0mmarkersize\u001b[0m\u001b[0;34m=\u001b[0m\u001b[0;36m10\u001b[0m\u001b[0;34m)\u001b[0m\u001b[0;34m\u001b[0m\u001b[0;34m\u001b[0m\u001b[0m\n\u001b[0m",
      "\u001b[0;31mNameError\u001b[0m: name 'repo1' is not defined"
     ]
    },
    {
     "data": {
      "text/plain": [
       "<Figure size 1440x720 with 0 Axes>"
      ]
     },
     "metadata": {},
     "output_type": "display_data"
    }
   ],
   "source": [
    "fig = plt.figure(figsize=(20, 10))\n",
    "\n",
    "plt.plot(repo1['m1'], linewidth=3, marker='o', markersize=10)"
   ]
  },
  {
   "cell_type": "code",
   "execution_count": null,
   "metadata": {},
   "outputs": [],
   "source": [
    "fig = plt.figure(figsize=(20, 10))\n",
    "\n",
    "plt.plot(repo1['m2'], linewidth=3, marker='o', markersize=10)"
   ]
  },
  {
   "cell_type": "code",
   "execution_count": null,
   "metadata": {},
   "outputs": [],
   "source": [
    "fig = plt.figure(figsize=(20, 10))\n",
    "\n",
    "plt.plot(repo1['m3'], linewidth=3, marker='o', markersize=10)"
   ]
  },
  {
   "cell_type": "code",
   "execution_count": null,
   "metadata": {},
   "outputs": [],
   "source": [
    "fig = plt.figure(figsize=(20, 10))\n",
    "\n",
    "plt.plot(repo1['m1'], linewidth=3, marker='o', markersize=10)\n",
    "plt.plot(repo1['m2'], linewidth=3, marker='o', markersize=10)\n",
    "plt.plot(repo1['m3'], linewidth=3, marker='o', markersize=10)"
   ]
  },
  {
   "cell_type": "markdown",
   "metadata": {},
   "source": [
    "### Sub characteristic aggregation\n",
    "\n",
    "- You must do this for each of your repositories"
   ]
  },
  {
   "cell_type": "code",
   "execution_count": null,
   "metadata": {},
   "outputs": [],
   "source": [
    "psc1 = 1\n",
    "pm1 = 0.33\n",
    "pm2 = 0.33\n",
    "pm3 = 0.33\n",
    "\n",
    "repo1['asc1'] = ((repo1['m1']*pm1)+(repo1['m2']*pm2)+(repo1['m3']*pm3))*psc1\n",
    "repo2['asc1'] = ((repo2['m1']*pm1)+(repo2['m2']*pm2)+(repo2['m3']*pm3))*psc1\n",
    "..."
   ]
  },
  {
   "cell_type": "code",
   "execution_count": null,
   "metadata": {},
   "outputs": [],
   "source": [
    "fig = plt.figure(figsize=(20, 10))\n",
    "\n",
    "plt.plot(repo1['asc1'], linewidth=3, marker='o', markersize=10)"
   ]
  },
  {
   "cell_type": "code",
   "execution_count": null,
   "metadata": {},
   "outputs": [],
   "source": [
    "fig = plt.figure(figsize=(20, 10))\n",
    "\n",
    "plt.plot(repo2['asc1'], linewidth=3, marker='o', markersize=10)"
   ]
  },
  {
   "cell_type": "code",
   "execution_count": null,
   "metadata": {},
   "outputs": [],
   "source": [
    "fig = plt.figure(figsize=(20, 10))\n",
    "\n",
    "\n",
    "plt.plot(repo1['asc1'], linewidth=3, marker='o', markersize=5)\n",
    "plt.plot(repo2['asc1'], linewidth=3, marker='o', markersize=5)\n",
    "..."
   ]
  },
  {
   "cell_type": "code",
   "execution_count": null,
   "metadata": {},
   "outputs": [],
   "source": [
    "metrics_df = pd.concat([repo1_metrics, repo2_metrics, ...], ignore_index=True)\n",
    "\n",
    "metrics_df['ac1'] = metrics_df['asc1'] * 1\n",
    "metrics_df['total'] = metrics_df['asc1'] * 1"
   ]
  },
  {
   "cell_type": "code",
   "execution_count": null,
   "metadata": {},
   "outputs": [],
   "source": [
    "metrics_df"
   ]
  },
  {
   "cell_type": "code",
   "execution_count": null,
   "metadata": {},
   "outputs": [],
   "source": [
    "metrics_df.to_excel('data/metrics_df.xlsx', index = False)"
   ]
  },
  {
   "cell_type": "markdown",
   "metadata": {},
   "source": [
    "# Descriptive Statistic Analysis"
   ]
  },
  {
   "cell_type": "markdown",
   "metadata": {},
   "source": [
    "- Realizes the calculation of statistic data such as mean, median, mode, min, max, standard deviation and variance."
   ]
  },
  {
   "cell_type": "code",
   "execution_count": 26,
   "metadata": {
    "scrolled": false
   },
   "outputs": [],
   "source": [
    "def descriptive_statistics(df):\n",
    "    \n",
    "    metrics = df.describe()\n",
    "    variance = df.var()\n",
    "    variance_df = pd.DataFrame(variance, columns=[\"var\"])\n",
    "    variance_df = variance_df.T\n",
    "    return metrics.append(variance_df).T"
   ]
  },
  {
   "cell_type": "code",
   "execution_count": 31,
   "metadata": {},
   "outputs": [
    {
     "data": {
      "text/html": [
       "<div>\n",
       "<style scoped>\n",
       "    .dataframe tbody tr th:only-of-type {\n",
       "        vertical-align: middle;\n",
       "    }\n",
       "\n",
       "    .dataframe tbody tr th {\n",
       "        vertical-align: top;\n",
       "    }\n",
       "\n",
       "    .dataframe thead th {\n",
       "        text-align: right;\n",
       "    }\n",
       "</style>\n",
       "<table border=\"1\" class=\"dataframe\">\n",
       "  <thead>\n",
       "    <tr style=\"text-align: right;\">\n",
       "      <th></th>\n",
       "      <th>count</th>\n",
       "      <th>mean</th>\n",
       "      <th>std</th>\n",
       "      <th>min</th>\n",
       "      <th>25%</th>\n",
       "      <th>50%</th>\n",
       "      <th>75%</th>\n",
       "      <th>max</th>\n",
       "      <th>var</th>\n",
       "    </tr>\n",
       "  </thead>\n",
       "  <tbody>\n",
       "    <tr>\n",
       "      <th>m1</th>\n",
       "      <td>9.0</td>\n",
       "      <td>0.740741</td>\n",
       "      <td>0.146986</td>\n",
       "      <td>0.666667</td>\n",
       "      <td>0.666667</td>\n",
       "      <td>0.666667</td>\n",
       "      <td>0.666667</td>\n",
       "      <td>1.0</td>\n",
       "      <td>0.021605</td>\n",
       "    </tr>\n",
       "    <tr>\n",
       "      <th>m2</th>\n",
       "      <td>9.0</td>\n",
       "      <td>0.000000</td>\n",
       "      <td>0.000000</td>\n",
       "      <td>0.000000</td>\n",
       "      <td>0.000000</td>\n",
       "      <td>0.000000</td>\n",
       "      <td>0.000000</td>\n",
       "      <td>0.0</td>\n",
       "      <td>0.000000</td>\n",
       "    </tr>\n",
       "    <tr>\n",
       "      <th>m3</th>\n",
       "      <td>9.0</td>\n",
       "      <td>1.000000</td>\n",
       "      <td>0.000000</td>\n",
       "      <td>1.000000</td>\n",
       "      <td>1.000000</td>\n",
       "      <td>1.000000</td>\n",
       "      <td>1.000000</td>\n",
       "      <td>1.0</td>\n",
       "      <td>0.000000</td>\n",
       "    </tr>\n",
       "  </tbody>\n",
       "</table>\n",
       "</div>"
      ],
      "text/plain": [
       "    count      mean       std       min       25%       50%       75%  max  \\\n",
       "m1    9.0  0.740741  0.146986  0.666667  0.666667  0.666667  0.666667  1.0   \n",
       "m2    9.0  0.000000  0.000000  0.000000  0.000000  0.000000  0.000000  0.0   \n",
       "m3    9.0  1.000000  0.000000  1.000000  1.000000  1.000000  1.000000  1.0   \n",
       "\n",
       "         var  \n",
       "m1  0.021605  \n",
       "m2  0.000000  \n",
       "m3  0.000000  "
      ]
     },
     "execution_count": 31,
     "metadata": {},
     "output_type": "execute_result"
    }
   ],
   "source": [
    "descriptive_statistics(eccoar_complaint_metrics)"
   ]
  },
  {
   "cell_type": "code",
   "execution_count": 32,
   "metadata": {},
   "outputs": [
    {
     "data": {
      "text/html": [
       "<div>\n",
       "<style scoped>\n",
       "    .dataframe tbody tr th:only-of-type {\n",
       "        vertical-align: middle;\n",
       "    }\n",
       "\n",
       "    .dataframe tbody tr th {\n",
       "        vertical-align: top;\n",
       "    }\n",
       "\n",
       "    .dataframe thead th {\n",
       "        text-align: right;\n",
       "    }\n",
       "</style>\n",
       "<table border=\"1\" class=\"dataframe\">\n",
       "  <thead>\n",
       "    <tr style=\"text-align: right;\">\n",
       "      <th></th>\n",
       "      <th>count</th>\n",
       "      <th>mean</th>\n",
       "      <th>std</th>\n",
       "      <th>min</th>\n",
       "      <th>25%</th>\n",
       "      <th>50%</th>\n",
       "      <th>75%</th>\n",
       "      <th>max</th>\n",
       "      <th>var</th>\n",
       "    </tr>\n",
       "  </thead>\n",
       "  <tbody>\n",
       "    <tr>\n",
       "      <th>m1</th>\n",
       "      <td>9.0</td>\n",
       "      <td>0.930556</td>\n",
       "      <td>0.065881</td>\n",
       "      <td>0.875</td>\n",
       "      <td>0.875</td>\n",
       "      <td>0.875</td>\n",
       "      <td>1.0</td>\n",
       "      <td>1.0</td>\n",
       "      <td>0.00434</td>\n",
       "    </tr>\n",
       "    <tr>\n",
       "      <th>m2</th>\n",
       "      <td>9.0</td>\n",
       "      <td>0.000000</td>\n",
       "      <td>0.000000</td>\n",
       "      <td>0.000</td>\n",
       "      <td>0.000</td>\n",
       "      <td>0.000</td>\n",
       "      <td>0.0</td>\n",
       "      <td>0.0</td>\n",
       "      <td>0.00000</td>\n",
       "    </tr>\n",
       "    <tr>\n",
       "      <th>m3</th>\n",
       "      <td>9.0</td>\n",
       "      <td>1.000000</td>\n",
       "      <td>0.000000</td>\n",
       "      <td>1.000</td>\n",
       "      <td>1.000</td>\n",
       "      <td>1.000</td>\n",
       "      <td>1.0</td>\n",
       "      <td>1.0</td>\n",
       "      <td>0.00000</td>\n",
       "    </tr>\n",
       "  </tbody>\n",
       "</table>\n",
       "</div>"
      ],
      "text/plain": [
       "    count      mean       std    min    25%    50%  75%  max      var\n",
       "m1    9.0  0.930556  0.065881  0.875  0.875  0.875  1.0  1.0  0.00434\n",
       "m2    9.0  0.000000  0.000000  0.000  0.000  0.000  0.0  0.0  0.00000\n",
       "m3    9.0  1.000000  0.000000  1.000  1.000  1.000  1.0  1.0  0.00000"
      ]
     },
     "execution_count": 32,
     "metadata": {},
     "output_type": "execute_result"
    }
   ],
   "source": [
    "descriptive_statistics(eccoar_gateway_metrics)"
   ]
  },
  {
   "cell_type": "code",
   "execution_count": 39,
   "metadata": {},
   "outputs": [
    {
     "data": {
      "text/html": [
       "<div>\n",
       "<style scoped>\n",
       "    .dataframe tbody tr th:only-of-type {\n",
       "        vertical-align: middle;\n",
       "    }\n",
       "\n",
       "    .dataframe tbody tr th {\n",
       "        vertical-align: top;\n",
       "    }\n",
       "\n",
       "    .dataframe thead th {\n",
       "        text-align: right;\n",
       "    }\n",
       "</style>\n",
       "<table border=\"1\" class=\"dataframe\">\n",
       "  <thead>\n",
       "    <tr style=\"text-align: right;\">\n",
       "      <th></th>\n",
       "      <th>count</th>\n",
       "      <th>mean</th>\n",
       "      <th>std</th>\n",
       "      <th>min</th>\n",
       "      <th>25%</th>\n",
       "      <th>50%</th>\n",
       "      <th>75%</th>\n",
       "      <th>max</th>\n",
       "      <th>var</th>\n",
       "    </tr>\n",
       "  </thead>\n",
       "  <tbody>\n",
       "    <tr>\n",
       "      <th>m1</th>\n",
       "      <td>0.0</td>\n",
       "      <td>NaN</td>\n",
       "      <td>NaN</td>\n",
       "      <td>NaN</td>\n",
       "      <td>NaN</td>\n",
       "      <td>NaN</td>\n",
       "      <td>NaN</td>\n",
       "      <td>NaN</td>\n",
       "      <td>NaN</td>\n",
       "    </tr>\n",
       "    <tr>\n",
       "      <th>m2</th>\n",
       "      <td>0.0</td>\n",
       "      <td>NaN</td>\n",
       "      <td>NaN</td>\n",
       "      <td>NaN</td>\n",
       "      <td>NaN</td>\n",
       "      <td>NaN</td>\n",
       "      <td>NaN</td>\n",
       "      <td>NaN</td>\n",
       "      <td>NaN</td>\n",
       "    </tr>\n",
       "    <tr>\n",
       "      <th>m3</th>\n",
       "      <td>0.0</td>\n",
       "      <td>NaN</td>\n",
       "      <td>NaN</td>\n",
       "      <td>NaN</td>\n",
       "      <td>NaN</td>\n",
       "      <td>NaN</td>\n",
       "      <td>NaN</td>\n",
       "      <td>NaN</td>\n",
       "      <td>NaN</td>\n",
       "    </tr>\n",
       "    <tr>\n",
       "      <th>repository</th>\n",
       "      <td>0.0</td>\n",
       "      <td>NaN</td>\n",
       "      <td>NaN</td>\n",
       "      <td>NaN</td>\n",
       "      <td>NaN</td>\n",
       "      <td>NaN</td>\n",
       "      <td>NaN</td>\n",
       "      <td>NaN</td>\n",
       "      <td>NaN</td>\n",
       "    </tr>\n",
       "    <tr>\n",
       "      <th>version</th>\n",
       "      <td>0.0</td>\n",
       "      <td>NaN</td>\n",
       "      <td>NaN</td>\n",
       "      <td>NaN</td>\n",
       "      <td>NaN</td>\n",
       "      <td>NaN</td>\n",
       "      <td>NaN</td>\n",
       "      <td>NaN</td>\n",
       "      <td>NaN</td>\n",
       "    </tr>\n",
       "  </tbody>\n",
       "</table>\n",
       "</div>"
      ],
      "text/plain": [
       "            count  mean  std  min  25%  50%  75%  max  var\n",
       "m1            0.0   NaN  NaN  NaN  NaN  NaN  NaN  NaN  NaN\n",
       "m2            0.0   NaN  NaN  NaN  NaN  NaN  NaN  NaN  NaN\n",
       "m3            0.0   NaN  NaN  NaN  NaN  NaN  NaN  NaN  NaN\n",
       "repository    0.0   NaN  NaN  NaN  NaN  NaN  NaN  NaN  NaN\n",
       "version       0.0   NaN  NaN  NaN  NaN  NaN  NaN  NaN  NaN"
      ]
     },
     "execution_count": 39,
     "metadata": {},
     "output_type": "execute_result"
    }
   ],
   "source": [
    "descriptive_statistics(eccoar_frontend_metrics)"
   ]
  },
  {
   "cell_type": "code",
   "execution_count": 34,
   "metadata": {},
   "outputs": [
    {
     "data": {
      "text/html": [
       "<div>\n",
       "<style scoped>\n",
       "    .dataframe tbody tr th:only-of-type {\n",
       "        vertical-align: middle;\n",
       "    }\n",
       "\n",
       "    .dataframe tbody tr th {\n",
       "        vertical-align: top;\n",
       "    }\n",
       "\n",
       "    .dataframe thead th {\n",
       "        text-align: right;\n",
       "    }\n",
       "</style>\n",
       "<table border=\"1\" class=\"dataframe\">\n",
       "  <thead>\n",
       "    <tr style=\"text-align: right;\">\n",
       "      <th></th>\n",
       "      <th>count</th>\n",
       "      <th>mean</th>\n",
       "      <th>std</th>\n",
       "      <th>min</th>\n",
       "      <th>25%</th>\n",
       "      <th>50%</th>\n",
       "      <th>75%</th>\n",
       "      <th>max</th>\n",
       "      <th>var</th>\n",
       "    </tr>\n",
       "  </thead>\n",
       "  <tbody>\n",
       "    <tr>\n",
       "      <th>m1</th>\n",
       "      <td>5.0</td>\n",
       "      <td>0.791111</td>\n",
       "      <td>0.123078</td>\n",
       "      <td>0.7</td>\n",
       "      <td>0.7</td>\n",
       "      <td>0.777778</td>\n",
       "      <td>0.777778</td>\n",
       "      <td>1.0</td>\n",
       "      <td>0.015148</td>\n",
       "    </tr>\n",
       "    <tr>\n",
       "      <th>m2</th>\n",
       "      <td>5.0</td>\n",
       "      <td>0.000000</td>\n",
       "      <td>0.000000</td>\n",
       "      <td>0.0</td>\n",
       "      <td>0.0</td>\n",
       "      <td>0.000000</td>\n",
       "      <td>0.000000</td>\n",
       "      <td>0.0</td>\n",
       "      <td>0.000000</td>\n",
       "    </tr>\n",
       "    <tr>\n",
       "      <th>m3</th>\n",
       "      <td>5.0</td>\n",
       "      <td>1.000000</td>\n",
       "      <td>0.000000</td>\n",
       "      <td>1.0</td>\n",
       "      <td>1.0</td>\n",
       "      <td>1.000000</td>\n",
       "      <td>1.000000</td>\n",
       "      <td>1.0</td>\n",
       "      <td>0.000000</td>\n",
       "    </tr>\n",
       "  </tbody>\n",
       "</table>\n",
       "</div>"
      ],
      "text/plain": [
       "    count      mean       std  min  25%       50%       75%  max       var\n",
       "m1    5.0  0.791111  0.123078  0.7  0.7  0.777778  0.777778  1.0  0.015148\n",
       "m2    5.0  0.000000  0.000000  0.0  0.0  0.000000  0.000000  0.0  0.000000\n",
       "m3    5.0  1.000000  0.000000  1.0  1.0  1.000000  1.000000  1.0  0.000000"
      ]
     },
     "execution_count": 34,
     "metadata": {},
     "output_type": "execute_result"
    }
   ],
   "source": [
    "descriptive_statistics(eccoar_reports_metrics)"
   ]
  },
  {
   "cell_type": "code",
   "execution_count": 35,
   "metadata": {},
   "outputs": [
    {
     "data": {
      "text/html": [
       "<div>\n",
       "<style scoped>\n",
       "    .dataframe tbody tr th:only-of-type {\n",
       "        vertical-align: middle;\n",
       "    }\n",
       "\n",
       "    .dataframe tbody tr th {\n",
       "        vertical-align: top;\n",
       "    }\n",
       "\n",
       "    .dataframe thead th {\n",
       "        text-align: right;\n",
       "    }\n",
       "</style>\n",
       "<table border=\"1\" class=\"dataframe\">\n",
       "  <thead>\n",
       "    <tr style=\"text-align: right;\">\n",
       "      <th></th>\n",
       "      <th>count</th>\n",
       "      <th>mean</th>\n",
       "      <th>std</th>\n",
       "      <th>min</th>\n",
       "      <th>25%</th>\n",
       "      <th>50%</th>\n",
       "      <th>75%</th>\n",
       "      <th>max</th>\n",
       "      <th>var</th>\n",
       "    </tr>\n",
       "  </thead>\n",
       "  <tbody>\n",
       "    <tr>\n",
       "      <th>m1</th>\n",
       "      <td>9.0</td>\n",
       "      <td>0.740741</td>\n",
       "      <td>0.146986</td>\n",
       "      <td>0.666667</td>\n",
       "      <td>0.666667</td>\n",
       "      <td>0.666667</td>\n",
       "      <td>0.666667</td>\n",
       "      <td>1.0</td>\n",
       "      <td>0.021605</td>\n",
       "    </tr>\n",
       "    <tr>\n",
       "      <th>m2</th>\n",
       "      <td>9.0</td>\n",
       "      <td>0.000000</td>\n",
       "      <td>0.000000</td>\n",
       "      <td>0.000000</td>\n",
       "      <td>0.000000</td>\n",
       "      <td>0.000000</td>\n",
       "      <td>0.000000</td>\n",
       "      <td>0.0</td>\n",
       "      <td>0.000000</td>\n",
       "    </tr>\n",
       "    <tr>\n",
       "      <th>m3</th>\n",
       "      <td>9.0</td>\n",
       "      <td>1.000000</td>\n",
       "      <td>0.000000</td>\n",
       "      <td>1.000000</td>\n",
       "      <td>1.000000</td>\n",
       "      <td>1.000000</td>\n",
       "      <td>1.000000</td>\n",
       "      <td>1.0</td>\n",
       "      <td>0.000000</td>\n",
       "    </tr>\n",
       "  </tbody>\n",
       "</table>\n",
       "</div>"
      ],
      "text/plain": [
       "    count      mean       std       min       25%       50%       75%  max  \\\n",
       "m1    9.0  0.740741  0.146986  0.666667  0.666667  0.666667  0.666667  1.0   \n",
       "m2    9.0  0.000000  0.000000  0.000000  0.000000  0.000000  0.000000  0.0   \n",
       "m3    9.0  1.000000  0.000000  1.000000  1.000000  1.000000  1.000000  1.0   \n",
       "\n",
       "         var  \n",
       "m1  0.021605  \n",
       "m2  0.000000  \n",
       "m3  0.000000  "
      ]
     },
     "execution_count": 35,
     "metadata": {},
     "output_type": "execute_result"
    }
   ],
   "source": [
    "descriptive_statistics(eccoar_users_metrics)"
   ]
  },
  {
   "cell_type": "code",
   "execution_count": 36,
   "metadata": {},
   "outputs": [
    {
     "data": {
      "text/html": [
       "<div>\n",
       "<style scoped>\n",
       "    .dataframe tbody tr th:only-of-type {\n",
       "        vertical-align: middle;\n",
       "    }\n",
       "\n",
       "    .dataframe tbody tr th {\n",
       "        vertical-align: top;\n",
       "    }\n",
       "\n",
       "    .dataframe thead th {\n",
       "        text-align: right;\n",
       "    }\n",
       "</style>\n",
       "<table border=\"1\" class=\"dataframe\">\n",
       "  <thead>\n",
       "    <tr style=\"text-align: right;\">\n",
       "      <th></th>\n",
       "      <th>count</th>\n",
       "      <th>mean</th>\n",
       "      <th>std</th>\n",
       "      <th>min</th>\n",
       "      <th>25%</th>\n",
       "      <th>50%</th>\n",
       "      <th>75%</th>\n",
       "      <th>max</th>\n",
       "      <th>var</th>\n",
       "    </tr>\n",
       "  </thead>\n",
       "  <tbody>\n",
       "    <tr>\n",
       "      <th>m1</th>\n",
       "      <td>7.0</td>\n",
       "      <td>0.654422</td>\n",
       "      <td>0.041042</td>\n",
       "      <td>0.6</td>\n",
       "      <td>0.633333</td>\n",
       "      <td>0.666667</td>\n",
       "      <td>0.666667</td>\n",
       "      <td>0.714286</td>\n",
       "      <td>0.001684</td>\n",
       "    </tr>\n",
       "    <tr>\n",
       "      <th>m2</th>\n",
       "      <td>7.0</td>\n",
       "      <td>0.000000</td>\n",
       "      <td>0.000000</td>\n",
       "      <td>0.0</td>\n",
       "      <td>0.000000</td>\n",
       "      <td>0.000000</td>\n",
       "      <td>0.000000</td>\n",
       "      <td>0.000000</td>\n",
       "      <td>0.000000</td>\n",
       "    </tr>\n",
       "    <tr>\n",
       "      <th>m3</th>\n",
       "      <td>7.0</td>\n",
       "      <td>1.000000</td>\n",
       "      <td>0.000000</td>\n",
       "      <td>1.0</td>\n",
       "      <td>1.000000</td>\n",
       "      <td>1.000000</td>\n",
       "      <td>1.000000</td>\n",
       "      <td>1.000000</td>\n",
       "      <td>0.000000</td>\n",
       "    </tr>\n",
       "  </tbody>\n",
       "</table>\n",
       "</div>"
      ],
      "text/plain": [
       "    count      mean       std  min       25%       50%       75%       max  \\\n",
       "m1    7.0  0.654422  0.041042  0.6  0.633333  0.666667  0.666667  0.714286   \n",
       "m2    7.0  0.000000  0.000000  0.0  0.000000  0.000000  0.000000  0.000000   \n",
       "m3    7.0  1.000000  0.000000  1.0  1.000000  1.000000  1.000000  1.000000   \n",
       "\n",
       "         var  \n",
       "m1  0.001684  \n",
       "m2  0.000000  \n",
       "m3  0.000000  "
      ]
     },
     "execution_count": 36,
     "metadata": {},
     "output_type": "execute_result"
    }
   ],
   "source": [
    "descriptive_statistics(eccoar_mailer_metrics)"
   ]
  },
  {
   "cell_type": "code",
   "execution_count": 37,
   "metadata": {},
   "outputs": [
    {
     "data": {
      "text/html": [
       "<div>\n",
       "<style scoped>\n",
       "    .dataframe tbody tr th:only-of-type {\n",
       "        vertical-align: middle;\n",
       "    }\n",
       "\n",
       "    .dataframe tbody tr th {\n",
       "        vertical-align: top;\n",
       "    }\n",
       "\n",
       "    .dataframe thead th {\n",
       "        text-align: right;\n",
       "    }\n",
       "</style>\n",
       "<table border=\"1\" class=\"dataframe\">\n",
       "  <thead>\n",
       "    <tr style=\"text-align: right;\">\n",
       "      <th></th>\n",
       "      <th>count</th>\n",
       "      <th>mean</th>\n",
       "      <th>std</th>\n",
       "      <th>min</th>\n",
       "      <th>25%</th>\n",
       "      <th>50%</th>\n",
       "      <th>75%</th>\n",
       "      <th>max</th>\n",
       "      <th>var</th>\n",
       "    </tr>\n",
       "  </thead>\n",
       "  <tbody>\n",
       "    <tr>\n",
       "      <th>m1</th>\n",
       "      <td>5.0</td>\n",
       "      <td>0.791111</td>\n",
       "      <td>0.123078</td>\n",
       "      <td>0.7</td>\n",
       "      <td>0.7</td>\n",
       "      <td>0.777778</td>\n",
       "      <td>0.777778</td>\n",
       "      <td>1.0</td>\n",
       "      <td>0.015148</td>\n",
       "    </tr>\n",
       "    <tr>\n",
       "      <th>m2</th>\n",
       "      <td>5.0</td>\n",
       "      <td>0.000000</td>\n",
       "      <td>0.000000</td>\n",
       "      <td>0.0</td>\n",
       "      <td>0.0</td>\n",
       "      <td>0.000000</td>\n",
       "      <td>0.000000</td>\n",
       "      <td>0.0</td>\n",
       "      <td>0.000000</td>\n",
       "    </tr>\n",
       "    <tr>\n",
       "      <th>m3</th>\n",
       "      <td>5.0</td>\n",
       "      <td>1.000000</td>\n",
       "      <td>0.000000</td>\n",
       "      <td>1.0</td>\n",
       "      <td>1.0</td>\n",
       "      <td>1.000000</td>\n",
       "      <td>1.000000</td>\n",
       "      <td>1.0</td>\n",
       "      <td>0.000000</td>\n",
       "    </tr>\n",
       "  </tbody>\n",
       "</table>\n",
       "</div>"
      ],
      "text/plain": [
       "    count      mean       std  min  25%       50%       75%  max       var\n",
       "m1    5.0  0.791111  0.123078  0.7  0.7  0.777778  0.777778  1.0  0.015148\n",
       "m2    5.0  0.000000  0.000000  0.0  0.0  0.000000  0.000000  0.0  0.000000\n",
       "m3    5.0  1.000000  0.000000  1.0  1.0  1.000000  1.000000  1.0  0.000000"
      ]
     },
     "execution_count": 37,
     "metadata": {},
     "output_type": "execute_result"
    }
   ],
   "source": [
    "descriptive_statistics(eccoar_reports_metrics)"
   ]
  },
  {
   "cell_type": "code",
   "execution_count": 38,
   "metadata": {},
   "outputs": [
    {
     "data": {
      "text/html": [
       "<div>\n",
       "<style scoped>\n",
       "    .dataframe tbody tr th:only-of-type {\n",
       "        vertical-align: middle;\n",
       "    }\n",
       "\n",
       "    .dataframe tbody tr th {\n",
       "        vertical-align: top;\n",
       "    }\n",
       "\n",
       "    .dataframe thead th {\n",
       "        text-align: right;\n",
       "    }\n",
       "</style>\n",
       "<table border=\"1\" class=\"dataframe\">\n",
       "  <thead>\n",
       "    <tr style=\"text-align: right;\">\n",
       "      <th></th>\n",
       "      <th>count</th>\n",
       "      <th>mean</th>\n",
       "      <th>std</th>\n",
       "      <th>min</th>\n",
       "      <th>25%</th>\n",
       "      <th>50%</th>\n",
       "      <th>75%</th>\n",
       "      <th>max</th>\n",
       "      <th>var</th>\n",
       "    </tr>\n",
       "  </thead>\n",
       "  <tbody>\n",
       "    <tr>\n",
       "      <th>m1</th>\n",
       "      <td>26.0</td>\n",
       "      <td>0.774633</td>\n",
       "      <td>0.109821</td>\n",
       "      <td>0.588235</td>\n",
       "      <td>0.666667</td>\n",
       "      <td>0.755</td>\n",
       "      <td>0.87500</td>\n",
       "      <td>0.90625</td>\n",
       "      <td>0.012061</td>\n",
       "    </tr>\n",
       "    <tr>\n",
       "      <th>m2</th>\n",
       "      <td>26.0</td>\n",
       "      <td>0.014387</td>\n",
       "      <td>0.018948</td>\n",
       "      <td>0.000000</td>\n",
       "      <td>0.000000</td>\n",
       "      <td>0.000</td>\n",
       "      <td>0.03125</td>\n",
       "      <td>0.05000</td>\n",
       "      <td>0.000359</td>\n",
       "    </tr>\n",
       "    <tr>\n",
       "      <th>m3</th>\n",
       "      <td>26.0</td>\n",
       "      <td>1.000000</td>\n",
       "      <td>0.000000</td>\n",
       "      <td>1.000000</td>\n",
       "      <td>1.000000</td>\n",
       "      <td>1.000</td>\n",
       "      <td>1.00000</td>\n",
       "      <td>1.00000</td>\n",
       "      <td>0.000000</td>\n",
       "    </tr>\n",
       "  </tbody>\n",
       "</table>\n",
       "</div>"
      ],
      "text/plain": [
       "    count      mean       std       min       25%    50%      75%      max  \\\n",
       "m1   26.0  0.774633  0.109821  0.588235  0.666667  0.755  0.87500  0.90625   \n",
       "m2   26.0  0.014387  0.018948  0.000000  0.000000  0.000  0.03125  0.05000   \n",
       "m3   26.0  1.000000  0.000000  1.000000  1.000000  1.000  1.00000  1.00000   \n",
       "\n",
       "         var  \n",
       "m1  0.012061  \n",
       "m2  0.000359  \n",
       "m3  0.000000  "
      ]
     },
     "execution_count": 38,
     "metadata": {},
     "output_type": "execute_result"
    }
   ],
   "source": [
    "descriptive_statistics(file_component_metrics)"
   ]
  }
 ],
 "metadata": {
  "kernelspec": {
   "display_name": "Python 3",
   "language": "python",
   "name": "python3"
  },
  "language_info": {
   "codemirror_mode": {
    "name": "ipython",
    "version": 3
   },
   "file_extension": ".py",
   "mimetype": "text/x-python",
   "name": "python",
   "nbconvert_exporter": "python",
   "pygments_lexer": "ipython3",
   "version": "3.8.5"
  }
 },
 "nbformat": 4,
 "nbformat_minor": 4
}
