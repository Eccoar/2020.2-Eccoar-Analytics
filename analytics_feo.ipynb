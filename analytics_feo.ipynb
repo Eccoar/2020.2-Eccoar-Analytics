{
 "cells": [
  {
   "cell_type": "markdown",
   "metadata": {},
   "source": [
    "# Analytics"
   ]
  },
  {
   "cell_type": "markdown",
   "metadata": {},
   "source": [
    "#### Date: 2020/02\n",
    "\n",
    "#### SUMMARY:\n",
    "\n",
    "- This notebook represents the project quality analysis of the date exposed right above. "
   ]
  },
  {
   "cell_type": "markdown",
   "metadata": {},
   "source": [
    "### TEAM:\n",
    "\n",
    "##### Semester: 2020/02\n",
    "##### Professor: Hilmer Neri\n",
    "\n",
    "##### Members:\n",
    "\n",
    "- Member x\n",
    "- Member y"
   ]
  },
  {
   "cell_type": "markdown",
   "metadata": {},
   "source": [
    "### LIBRARIES"
   ]
  },
  {
   "cell_type": "code",
   "execution_count": 100,
   "metadata": {},
   "outputs": [],
   "source": [
    "# Deal with data\n",
    "import pandas as pd\n",
    "import numpy as np\n",
    "import json\n",
    "from glob import glob\n",
    "import os\n",
    "\n",
    "# Deal with API request\n",
    "import urllib3\n",
    "from urllib3 import request\n",
    "\n",
    "# Deal with visualization\n",
    "import seaborn as sns\n",
    "import matplotlib.pyplot as plt\n",
    "\n",
    "from random import randint"
   ]
  },
  {
   "cell_type": "markdown",
   "metadata": {},
   "source": [
    "### GRAPH SETTINGS"
   ]
  },
  {
   "cell_type": "code",
   "execution_count": 2,
   "metadata": {},
   "outputs": [],
   "source": [
    "%config InlineBackend.figure_format ='retina'\n",
    "sns.set(font_scale=1.5)\n",
    "sns.set_style('darkgrid',\n",
    "              {'xtick.bottom' : True,\n",
    "               'ytick.left': True,\n",
    "               'grid.linestyle':'--',\n",
    "               'font.monospace': ['Computer Modern Typewriter'],\n",
    "               'axes.edgecolor' : 'white'})"
   ]
  },
  {
   "cell_type": "markdown",
   "metadata": {},
   "source": [
    "### DATAFRAME SETTINGS"
   ]
  },
  {
   "cell_type": "code",
   "execution_count": 3,
   "metadata": {},
   "outputs": [],
   "source": [
    "pd.set_option(\"display.max_rows\", None, \"display.max_columns\", None)"
   ]
  },
  {
   "cell_type": "markdown",
   "metadata": {},
   "source": [
    "### SonarCloud"
   ]
  },
  {
   "cell_type": "markdown",
   "metadata": {},
   "source": [
    "##### Path to the folder with all your jsons"
   ]
  },
  {
   "cell_type": "code",
   "execution_count": 4,
   "metadata": {},
   "outputs": [
    {
     "output_type": "execute_result",
     "data": {
      "text/plain": [
       "['complaints/fga-eps-mds-2020_2-Eccoar_Complaint-01-05-2021.json',\n",
       " 'complaints/fga-eps-mds-2020_2-Eccoar_Complaint-03-05-2021.json',\n",
       " 'complaints/fga-eps-mds-2020_2-Eccoar_Complaint-05-05-2021.json',\n",
       " 'complaints/fga-eps-mds-2020_2-Eccoar_Complaint-10-05-2021.json',\n",
       " 'complaints/fga-eps-mds-2020_2-Eccoar_Complaint-12-04-2021.json',\n",
       " 'complaints/fga-eps-mds-2020_2-Eccoar_Complaint-17-04-2021.json',\n",
       " 'complaints/fga-eps-mds-2020_2-Eccoar_Complaint-21-04-2021.json',\n",
       " 'complaints/fga-eps-mds-2020_2-Eccoar_Complaint-23-03-2021.json',\n",
       " 'complaints/fga-eps-mds-2020_2-Eccoar_Complaint-27-04-2021.json',\n",
       " 'front/fga-eps-mds-2020_2-eccoar_frontend-03-05-2021.json',\n",
       " 'front/fga-eps-mds-2020_2-eccoar_frontend-08-05-2021.json',\n",
       " 'front/fga-eps-mds-2020_2-eccoar_frontend-10-05-2021.json',\n",
       " 'front/fga-eps-mds-2020_2-eccoar_frontend-12-04-2021.json',\n",
       " 'front/fga-eps-mds-2020_2-eccoar_frontend-17-04-2021.json',\n",
       " 'front/fga-eps-mds-2020_2-eccoar_frontend-21-04-2021.json',\n",
       " 'front/fga-eps-mds-2020_2-eccoar_frontend-23-03-2021.json',\n",
       " 'front/fga-eps-mds-2020_2-eccoar_frontend-23-04-2021.json',\n",
       " 'front/fga-eps-mds-2020_2-eccoar_frontend-26-04-2021.json',\n",
       " 'front/fga-eps-mds-2020_2-eccoar_frontend-27-04-2021.json',\n",
       " 'gateway/fga-eps-mds-2020_2-Eccoar_Gateway-01-05-2021.json',\n",
       " 'gateway/fga-eps-mds-2020_2-Eccoar_Gateway-03-05-2021.json',\n",
       " 'gateway/fga-eps-mds-2020_2-Eccoar_Gateway-05-05-2021.json',\n",
       " 'gateway/fga-eps-mds-2020_2-Eccoar_Gateway-10-05-2021.json',\n",
       " 'gateway/fga-eps-mds-2020_2-Eccoar_Gateway-12-04-2021.json',\n",
       " 'gateway/fga-eps-mds-2020_2-Eccoar_Gateway-17-04-2021.json',\n",
       " 'gateway/fga-eps-mds-2020_2-Eccoar_Gateway-23-03-2021.json',\n",
       " 'gateway/fga-eps-mds-2020_2-Eccoar_Gateway-23-04-2021.json',\n",
       " 'gateway/fga-eps-mds-2020_2-Eccoar_Gateway-28-04-2021.json',\n",
       " 'mailer/fga-eps-mds-2020_2-Eccoar_Mailer-03-05-2021.json',\n",
       " 'mailer/fga-eps-mds-2020_2-Eccoar_Mailer-12-04-2021.json',\n",
       " 'mailer/fga-eps-mds-2020_2-Eccoar_Mailer-17-04-2021.json',\n",
       " 'mailer/fga-eps-mds-2020_2-Eccoar_Mailer-22-04-2021.json',\n",
       " 'mailer/fga-eps-mds-2020_2-Eccoar_Mailer-23-03-2021.json',\n",
       " 'mailer/fga-eps-mds-2020_2-Eccoar_Mailer-23-04-2021.json',\n",
       " 'mailer/fga-eps-mds-2020_2-Eccoar_Mailer-27-04-2021.json',\n",
       " 'reports/fga-eps-mds-2020_2-Eccoar_Reports-03-05-2021.json',\n",
       " 'reports/fga-eps-mds-2020_2-Eccoar_Reports-12-04-2021.json',\n",
       " 'reports/fga-eps-mds-2020_2-Eccoar_Reports-17-04-2021.json',\n",
       " 'reports/fga-eps-mds-2020_2-Eccoar_Reports-23-03-2021.json',\n",
       " 'reports/fga-eps-mds-2020_2-Eccoar_Reports-27-04-2021.json',\n",
       " 'users/fga-eps-mds-2020_2-Eccoar_Users-03-05-2021.json',\n",
       " 'users/fga-eps-mds-2020_2-Eccoar_Users-08-05-2021-11h56m.json',\n",
       " 'users/fga-eps-mds-2020_2-Eccoar_Users-08-05-2021-14h36m.json',\n",
       " 'users/fga-eps-mds-2020_2-Eccoar_Users-08-05-2021.json',\n",
       " 'users/fga-eps-mds-2020_2-Eccoar_Users-10-05-2021-20h46m.json',\n",
       " 'users/fga-eps-mds-2020_2-Eccoar_Users-10-05-2021.json',\n",
       " 'users/fga-eps-mds-2020_2-Eccoar_Users-12-04-2021.json',\n",
       " 'users/fga-eps-mds-2020_2-Eccoar_Users-23-03-2021.json',\n",
       " 'users/fga-eps-mds-2020_2-Eccoar_Users-23-04-2021.json']"
      ]
     },
     "metadata": {},
     "execution_count": 4
    }
   ],
   "source": [
    "jsons = glob('**/*.json') # add the path here\n",
    "jsons"
   ]
  },
  {
   "cell_type": "code",
   "execution_count": 5,
   "metadata": {},
   "outputs": [],
   "source": [
    "def read_json(json_path):\n",
    "    \n",
    "    with open(json_path) as json_file:\n",
    "        json_obj = json.load(json_file)\n",
    "        \n",
    "    return json_obj\n",
    "\n",
    "def create_base_component_df(json_list):\n",
    "    \n",
    "    df = pd.DataFrame()\n",
    "\n",
    "    for i in json_list:\n",
    "\n",
    "        base_component = read_json(i)\n",
    "\n",
    "        base_component_data = base_component['baseComponent']['measures']\n",
    "\n",
    "        base_component_df = pd.DataFrame(base_component_data)\n",
    "\n",
    "        base_component_df['filename'] = os.path.basename(i)\n",
    "\n",
    "        df = df.append(base_component_df, ignore_index=True)\n",
    "        \n",
    "    aux_df = df['filename'].str.split(r\"fga-eps-mds-2020_2-(.*?)-(.*?).json\", expand=True)\n",
    "    \n",
    "    df['repository'] = aux_df[1]\n",
    "    \n",
    "    df['version'] = aux_df[2]\n",
    "    \n",
    "    df = df.sort_values(by=['repository', 'version'])\n",
    "        \n",
    "    return df"
   ]
  },
  {
   "cell_type": "markdown",
   "metadata": {},
   "source": [
    "#### Create base component dataframe"
   ]
  },
  {
   "cell_type": "code",
   "execution_count": 6,
   "metadata": {
    "tags": []
   },
   "outputs": [],
   "source": [
    "base_component_df = create_base_component_df(jsons)"
   ]
  },
  {
   "cell_type": "code",
   "execution_count": 7,
   "metadata": {},
   "outputs": [
    {
     "output_type": "execute_result",
     "data": {
      "text/plain": [
       "                     metric value bestValue  \\\n",
       "0  duplicated_lines_density   0.0      True   \n",
       "1                 functions    42       NaN   \n",
       "2       test_execution_time    70       NaN   \n",
       "3           security_rating   1.0      True   \n",
       "4                     tests    21       NaN   \n",
       "5                     files    19       NaN   \n",
       "6                complexity    60       NaN   \n",
       "7                     ncloc   626       NaN   \n",
       "8                  coverage  68.2     False   \n",
       "9        reliability_rating   1.0      True   \n",
       "\n",
       "                                            filename        repository  \\\n",
       "0  fga-eps-mds-2020_2-Eccoar_Complaint-01-05-2021...  Eccoar_Complaint   \n",
       "1  fga-eps-mds-2020_2-Eccoar_Complaint-01-05-2021...  Eccoar_Complaint   \n",
       "2  fga-eps-mds-2020_2-Eccoar_Complaint-01-05-2021...  Eccoar_Complaint   \n",
       "3  fga-eps-mds-2020_2-Eccoar_Complaint-01-05-2021...  Eccoar_Complaint   \n",
       "4  fga-eps-mds-2020_2-Eccoar_Complaint-01-05-2021...  Eccoar_Complaint   \n",
       "5  fga-eps-mds-2020_2-Eccoar_Complaint-01-05-2021...  Eccoar_Complaint   \n",
       "6  fga-eps-mds-2020_2-Eccoar_Complaint-01-05-2021...  Eccoar_Complaint   \n",
       "7  fga-eps-mds-2020_2-Eccoar_Complaint-01-05-2021...  Eccoar_Complaint   \n",
       "8  fga-eps-mds-2020_2-Eccoar_Complaint-01-05-2021...  Eccoar_Complaint   \n",
       "9  fga-eps-mds-2020_2-Eccoar_Complaint-01-05-2021...  Eccoar_Complaint   \n",
       "\n",
       "      version  \n",
       "0  01-05-2021  \n",
       "1  01-05-2021  \n",
       "2  01-05-2021  \n",
       "3  01-05-2021  \n",
       "4  01-05-2021  \n",
       "5  01-05-2021  \n",
       "6  01-05-2021  \n",
       "7  01-05-2021  \n",
       "8  01-05-2021  \n",
       "9  01-05-2021  "
      ],
      "text/html": "<div>\n<style scoped>\n    .dataframe tbody tr th:only-of-type {\n        vertical-align: middle;\n    }\n\n    .dataframe tbody tr th {\n        vertical-align: top;\n    }\n\n    .dataframe thead th {\n        text-align: right;\n    }\n</style>\n<table border=\"1\" class=\"dataframe\">\n  <thead>\n    <tr style=\"text-align: right;\">\n      <th></th>\n      <th>metric</th>\n      <th>value</th>\n      <th>bestValue</th>\n      <th>filename</th>\n      <th>repository</th>\n      <th>version</th>\n    </tr>\n  </thead>\n  <tbody>\n    <tr>\n      <th>0</th>\n      <td>duplicated_lines_density</td>\n      <td>0.0</td>\n      <td>True</td>\n      <td>fga-eps-mds-2020_2-Eccoar_Complaint-01-05-2021...</td>\n      <td>Eccoar_Complaint</td>\n      <td>01-05-2021</td>\n    </tr>\n    <tr>\n      <th>1</th>\n      <td>functions</td>\n      <td>42</td>\n      <td>NaN</td>\n      <td>fga-eps-mds-2020_2-Eccoar_Complaint-01-05-2021...</td>\n      <td>Eccoar_Complaint</td>\n      <td>01-05-2021</td>\n    </tr>\n    <tr>\n      <th>2</th>\n      <td>test_execution_time</td>\n      <td>70</td>\n      <td>NaN</td>\n      <td>fga-eps-mds-2020_2-Eccoar_Complaint-01-05-2021...</td>\n      <td>Eccoar_Complaint</td>\n      <td>01-05-2021</td>\n    </tr>\n    <tr>\n      <th>3</th>\n      <td>security_rating</td>\n      <td>1.0</td>\n      <td>True</td>\n      <td>fga-eps-mds-2020_2-Eccoar_Complaint-01-05-2021...</td>\n      <td>Eccoar_Complaint</td>\n      <td>01-05-2021</td>\n    </tr>\n    <tr>\n      <th>4</th>\n      <td>tests</td>\n      <td>21</td>\n      <td>NaN</td>\n      <td>fga-eps-mds-2020_2-Eccoar_Complaint-01-05-2021...</td>\n      <td>Eccoar_Complaint</td>\n      <td>01-05-2021</td>\n    </tr>\n    <tr>\n      <th>5</th>\n      <td>files</td>\n      <td>19</td>\n      <td>NaN</td>\n      <td>fga-eps-mds-2020_2-Eccoar_Complaint-01-05-2021...</td>\n      <td>Eccoar_Complaint</td>\n      <td>01-05-2021</td>\n    </tr>\n    <tr>\n      <th>6</th>\n      <td>complexity</td>\n      <td>60</td>\n      <td>NaN</td>\n      <td>fga-eps-mds-2020_2-Eccoar_Complaint-01-05-2021...</td>\n      <td>Eccoar_Complaint</td>\n      <td>01-05-2021</td>\n    </tr>\n    <tr>\n      <th>7</th>\n      <td>ncloc</td>\n      <td>626</td>\n      <td>NaN</td>\n      <td>fga-eps-mds-2020_2-Eccoar_Complaint-01-05-2021...</td>\n      <td>Eccoar_Complaint</td>\n      <td>01-05-2021</td>\n    </tr>\n    <tr>\n      <th>8</th>\n      <td>coverage</td>\n      <td>68.2</td>\n      <td>False</td>\n      <td>fga-eps-mds-2020_2-Eccoar_Complaint-01-05-2021...</td>\n      <td>Eccoar_Complaint</td>\n      <td>01-05-2021</td>\n    </tr>\n    <tr>\n      <th>9</th>\n      <td>reliability_rating</td>\n      <td>1.0</td>\n      <td>True</td>\n      <td>fga-eps-mds-2020_2-Eccoar_Complaint-01-05-2021...</td>\n      <td>Eccoar_Complaint</td>\n      <td>01-05-2021</td>\n    </tr>\n  </tbody>\n</table>\n</div>"
     },
     "metadata": {},
     "execution_count": 7
    }
   ],
   "source": [
    "base_component_df.head(10)"
   ]
  },
  {
   "cell_type": "markdown",
   "metadata": {},
   "source": [
    "#### Create dataframe per file"
   ]
  },
  {
   "cell_type": "code",
   "execution_count": 8,
   "metadata": {},
   "outputs": [
    {
     "output_type": "execute_result",
     "data": {
      "text/plain": [
       "12"
      ]
     },
     "metadata": {},
     "execution_count": 8
    }
   ],
   "source": [
    "metric_list = ['files',\n",
    "               'functions',\n",
    "               'complexity',\n",
    "               'comment_lines_density',\n",
    "               'duplicated_lines_density',\n",
    "               'coverage',\n",
    "               'ncloc',\n",
    "               'security_rating',\n",
    "               'tests',\n",
    "               'test_success_density',\n",
    "               'test_execution_time',\n",
    "               'reliability_rating']\n",
    "\n",
    "len(metric_list)"
   ]
  },
  {
   "cell_type": "code",
   "execution_count": 9,
   "metadata": {},
   "outputs": [],
   "source": [
    "def metric_per_file(json):\n",
    "    \n",
    "    file_json = []\n",
    "    \n",
    "    for component in json['components']:\n",
    "        if component['qualifier'] == 'FIL':\n",
    "            file_json.append(component)\n",
    "            \n",
    "    return file_json\n",
    "\n",
    "def generate_file_dataframe_per_release(metric_list, json, language_extension):\n",
    "    \n",
    "    df_columns = metric_list\n",
    "    df = pd.DataFrame(columns = df_columns)\n",
    "    \n",
    "    for file in json:\n",
    "        try:\n",
    "            if file['language'] == language_extension:\n",
    "                for measure in file['measures']:\n",
    "                    df.at[file['path'], measure['metric']] = measure['value']\n",
    "        except:\n",
    "            pass\n",
    "        \n",
    "    df.reset_index(inplace = True)\n",
    "    df = df.rename({'index': 'path'}, axis=1).drop(['files'], axis=1)\n",
    "\n",
    "    return df\n",
    "\n",
    "def create_file_df(json_list):\n",
    "    \n",
    "    df = pd.DataFrame()\n",
    "\n",
    "    for i in json_list:\n",
    "\n",
    "        file_component = read_json(i)\n",
    "        \n",
    "        file_component_data = metric_per_file(file_component)\n",
    "\n",
    "        file_component_df = generate_file_dataframe_per_release(metric_list, file_component_data, language_extension = 'ts')\n",
    "\n",
    "        file_component_df['filename'] = os.path.basename(i)\n",
    "\n",
    "        df = df.append(file_component_df, ignore_index=True)\n",
    "        \n",
    "    # replace TeamName by yours.    \n",
    "    aux_df = df['filename'].str.split(r\"fga-eps-mds-2020_2-(.*?)-(.*?).json\", expand=True)\n",
    "    \n",
    "    df['repository'] = aux_df[1]\n",
    "    \n",
    "    df['version'] = aux_df[2]\n",
    "    \n",
    "    df = df.sort_values(by=['repository', 'version'])\n",
    "        \n",
    "    return df"
   ]
  },
  {
   "cell_type": "code",
   "execution_count": 10,
   "metadata": {
    "tags": []
   },
   "outputs": [],
   "source": [
    "file_component_df = create_file_df(jsons)"
   ]
  },
  {
   "cell_type": "code",
   "execution_count": 11,
   "metadata": {},
   "outputs": [
    {
     "output_type": "execute_result",
     "data": {
      "text/plain": [
       "                                             path functions complexity  \\\n",
       "0  src/migration/1618526567509-CreateComplaint.ts         2          2   \n",
       "1       src/migration/1618529825437-CreateVote.ts         2          2   \n",
       "2                           src/utils/Category.ts         0          0   \n",
       "3                         src/entity/Complaint.ts         0          0   \n",
       "4         src/repositories/ComplaintRepository.ts         7          7   \n",
       "5                    src/utils/ComplaintUpvote.ts         1          3   \n",
       "6                      src/utils/ComplaintVote.ts         0          0   \n",
       "7             src/utils/ComplaintVoteConfirmed.ts         1          3   \n",
       "8                  src/utils/ComplaintWithVote.ts         0          0   \n",
       "9          src/controllers/ControllerComplaint.ts        13         24   \n",
       "\n",
       "  comment_lines_density duplicated_lines_density coverage ncloc  \\\n",
       "0                   0.0                      0.0      0.0    76   \n",
       "1                   0.0                      0.0      0.0    38   \n",
       "2                   0.0                      0.0    100.0     5   \n",
       "3                   0.0                      0.0    100.0    36   \n",
       "4                   0.0                      0.0     61.3    80   \n",
       "5                   0.0                      0.0     63.6    16   \n",
       "6                   0.0                      0.0      NaN     9   \n",
       "7                   0.0                      0.0     92.3    18   \n",
       "8                   0.0                      0.0      NaN    18   \n",
       "9                   0.0                      0.0     90.3   170   \n",
       "\n",
       "  security_rating tests test_success_density test_execution_time  \\\n",
       "0             1.0   NaN                100.0                 NaN   \n",
       "1             1.0   NaN                100.0                 NaN   \n",
       "2             1.0   NaN                100.0                 NaN   \n",
       "3             1.0   NaN                100.0                 NaN   \n",
       "4             1.0   NaN                100.0                 NaN   \n",
       "5             1.0   NaN                100.0                 NaN   \n",
       "6             1.0   NaN                100.0                 NaN   \n",
       "7             1.0   NaN                100.0                 NaN   \n",
       "8             1.0   NaN                100.0                 NaN   \n",
       "9             1.0   NaN                100.0                 NaN   \n",
       "\n",
       "  reliability_rating                                           filename  \\\n",
       "0                1.0  fga-eps-mds-2020_2-Eccoar_Complaint-01-05-2021...   \n",
       "1                1.0  fga-eps-mds-2020_2-Eccoar_Complaint-01-05-2021...   \n",
       "2                1.0  fga-eps-mds-2020_2-Eccoar_Complaint-01-05-2021...   \n",
       "3                1.0  fga-eps-mds-2020_2-Eccoar_Complaint-01-05-2021...   \n",
       "4                1.0  fga-eps-mds-2020_2-Eccoar_Complaint-01-05-2021...   \n",
       "5                1.0  fga-eps-mds-2020_2-Eccoar_Complaint-01-05-2021...   \n",
       "6                1.0  fga-eps-mds-2020_2-Eccoar_Complaint-01-05-2021...   \n",
       "7                1.0  fga-eps-mds-2020_2-Eccoar_Complaint-01-05-2021...   \n",
       "8                1.0  fga-eps-mds-2020_2-Eccoar_Complaint-01-05-2021...   \n",
       "9                1.0  fga-eps-mds-2020_2-Eccoar_Complaint-01-05-2021...   \n",
       "\n",
       "         repository     version  \n",
       "0  Eccoar_Complaint  01-05-2021  \n",
       "1  Eccoar_Complaint  01-05-2021  \n",
       "2  Eccoar_Complaint  01-05-2021  \n",
       "3  Eccoar_Complaint  01-05-2021  \n",
       "4  Eccoar_Complaint  01-05-2021  \n",
       "5  Eccoar_Complaint  01-05-2021  \n",
       "6  Eccoar_Complaint  01-05-2021  \n",
       "7  Eccoar_Complaint  01-05-2021  \n",
       "8  Eccoar_Complaint  01-05-2021  \n",
       "9  Eccoar_Complaint  01-05-2021  "
      ],
      "text/html": "<div>\n<style scoped>\n    .dataframe tbody tr th:only-of-type {\n        vertical-align: middle;\n    }\n\n    .dataframe tbody tr th {\n        vertical-align: top;\n    }\n\n    .dataframe thead th {\n        text-align: right;\n    }\n</style>\n<table border=\"1\" class=\"dataframe\">\n  <thead>\n    <tr style=\"text-align: right;\">\n      <th></th>\n      <th>path</th>\n      <th>functions</th>\n      <th>complexity</th>\n      <th>comment_lines_density</th>\n      <th>duplicated_lines_density</th>\n      <th>coverage</th>\n      <th>ncloc</th>\n      <th>security_rating</th>\n      <th>tests</th>\n      <th>test_success_density</th>\n      <th>test_execution_time</th>\n      <th>reliability_rating</th>\n      <th>filename</th>\n      <th>repository</th>\n      <th>version</th>\n    </tr>\n  </thead>\n  <tbody>\n    <tr>\n      <th>0</th>\n      <td>src/migration/1618526567509-CreateComplaint.ts</td>\n      <td>2</td>\n      <td>2</td>\n      <td>0.0</td>\n      <td>0.0</td>\n      <td>0.0</td>\n      <td>76</td>\n      <td>1.0</td>\n      <td>NaN</td>\n      <td>100.0</td>\n      <td>NaN</td>\n      <td>1.0</td>\n      <td>fga-eps-mds-2020_2-Eccoar_Complaint-01-05-2021...</td>\n      <td>Eccoar_Complaint</td>\n      <td>01-05-2021</td>\n    </tr>\n    <tr>\n      <th>1</th>\n      <td>src/migration/1618529825437-CreateVote.ts</td>\n      <td>2</td>\n      <td>2</td>\n      <td>0.0</td>\n      <td>0.0</td>\n      <td>0.0</td>\n      <td>38</td>\n      <td>1.0</td>\n      <td>NaN</td>\n      <td>100.0</td>\n      <td>NaN</td>\n      <td>1.0</td>\n      <td>fga-eps-mds-2020_2-Eccoar_Complaint-01-05-2021...</td>\n      <td>Eccoar_Complaint</td>\n      <td>01-05-2021</td>\n    </tr>\n    <tr>\n      <th>2</th>\n      <td>src/utils/Category.ts</td>\n      <td>0</td>\n      <td>0</td>\n      <td>0.0</td>\n      <td>0.0</td>\n      <td>100.0</td>\n      <td>5</td>\n      <td>1.0</td>\n      <td>NaN</td>\n      <td>100.0</td>\n      <td>NaN</td>\n      <td>1.0</td>\n      <td>fga-eps-mds-2020_2-Eccoar_Complaint-01-05-2021...</td>\n      <td>Eccoar_Complaint</td>\n      <td>01-05-2021</td>\n    </tr>\n    <tr>\n      <th>3</th>\n      <td>src/entity/Complaint.ts</td>\n      <td>0</td>\n      <td>0</td>\n      <td>0.0</td>\n      <td>0.0</td>\n      <td>100.0</td>\n      <td>36</td>\n      <td>1.0</td>\n      <td>NaN</td>\n      <td>100.0</td>\n      <td>NaN</td>\n      <td>1.0</td>\n      <td>fga-eps-mds-2020_2-Eccoar_Complaint-01-05-2021...</td>\n      <td>Eccoar_Complaint</td>\n      <td>01-05-2021</td>\n    </tr>\n    <tr>\n      <th>4</th>\n      <td>src/repositories/ComplaintRepository.ts</td>\n      <td>7</td>\n      <td>7</td>\n      <td>0.0</td>\n      <td>0.0</td>\n      <td>61.3</td>\n      <td>80</td>\n      <td>1.0</td>\n      <td>NaN</td>\n      <td>100.0</td>\n      <td>NaN</td>\n      <td>1.0</td>\n      <td>fga-eps-mds-2020_2-Eccoar_Complaint-01-05-2021...</td>\n      <td>Eccoar_Complaint</td>\n      <td>01-05-2021</td>\n    </tr>\n    <tr>\n      <th>5</th>\n      <td>src/utils/ComplaintUpvote.ts</td>\n      <td>1</td>\n      <td>3</td>\n      <td>0.0</td>\n      <td>0.0</td>\n      <td>63.6</td>\n      <td>16</td>\n      <td>1.0</td>\n      <td>NaN</td>\n      <td>100.0</td>\n      <td>NaN</td>\n      <td>1.0</td>\n      <td>fga-eps-mds-2020_2-Eccoar_Complaint-01-05-2021...</td>\n      <td>Eccoar_Complaint</td>\n      <td>01-05-2021</td>\n    </tr>\n    <tr>\n      <th>6</th>\n      <td>src/utils/ComplaintVote.ts</td>\n      <td>0</td>\n      <td>0</td>\n      <td>0.0</td>\n      <td>0.0</td>\n      <td>NaN</td>\n      <td>9</td>\n      <td>1.0</td>\n      <td>NaN</td>\n      <td>100.0</td>\n      <td>NaN</td>\n      <td>1.0</td>\n      <td>fga-eps-mds-2020_2-Eccoar_Complaint-01-05-2021...</td>\n      <td>Eccoar_Complaint</td>\n      <td>01-05-2021</td>\n    </tr>\n    <tr>\n      <th>7</th>\n      <td>src/utils/ComplaintVoteConfirmed.ts</td>\n      <td>1</td>\n      <td>3</td>\n      <td>0.0</td>\n      <td>0.0</td>\n      <td>92.3</td>\n      <td>18</td>\n      <td>1.0</td>\n      <td>NaN</td>\n      <td>100.0</td>\n      <td>NaN</td>\n      <td>1.0</td>\n      <td>fga-eps-mds-2020_2-Eccoar_Complaint-01-05-2021...</td>\n      <td>Eccoar_Complaint</td>\n      <td>01-05-2021</td>\n    </tr>\n    <tr>\n      <th>8</th>\n      <td>src/utils/ComplaintWithVote.ts</td>\n      <td>0</td>\n      <td>0</td>\n      <td>0.0</td>\n      <td>0.0</td>\n      <td>NaN</td>\n      <td>18</td>\n      <td>1.0</td>\n      <td>NaN</td>\n      <td>100.0</td>\n      <td>NaN</td>\n      <td>1.0</td>\n      <td>fga-eps-mds-2020_2-Eccoar_Complaint-01-05-2021...</td>\n      <td>Eccoar_Complaint</td>\n      <td>01-05-2021</td>\n    </tr>\n    <tr>\n      <th>9</th>\n      <td>src/controllers/ControllerComplaint.ts</td>\n      <td>13</td>\n      <td>24</td>\n      <td>0.0</td>\n      <td>0.0</td>\n      <td>90.3</td>\n      <td>170</td>\n      <td>1.0</td>\n      <td>NaN</td>\n      <td>100.0</td>\n      <td>NaN</td>\n      <td>1.0</td>\n      <td>fga-eps-mds-2020_2-Eccoar_Complaint-01-05-2021...</td>\n      <td>Eccoar_Complaint</td>\n      <td>01-05-2021</td>\n    </tr>\n  </tbody>\n</table>\n</div>"
     },
     "metadata": {},
     "execution_count": 11
    }
   ],
   "source": [
    "file_component_df.head(10)"
   ]
  },
  {
   "cell_type": "code",
   "execution_count": 12,
   "metadata": {},
   "outputs": [],
   "source": [
    "file_component_df.to_excel('data/data.xlsx', index = False)"
   ]
  },
  {
   "cell_type": "markdown",
   "metadata": {},
   "source": [
    "#### Create dataframe per repository"
   ]
  },
  {
   "cell_type": "code",
   "execution_count": 15,
   "metadata": {},
   "outputs": [
    {
     "output_type": "execute_result",
     "data": {
      "text/plain": [
       "array(['Eccoar_Complaint', 'Eccoar_Gateway', 'Eccoar_Mailer',\n",
       "       'Eccoar_Reports', 'Eccoar_Users', 'eccoar_frontend'], dtype=object)"
      ]
     },
     "metadata": {},
     "execution_count": 15
    }
   ],
   "source": [
    "file_component_df.repository.unique()"
   ]
  },
  {
   "cell_type": "code",
   "execution_count": 106,
   "metadata": {},
   "outputs": [
    {
     "output_type": "execute_result",
     "data": {
      "text/plain": [
       "Ellipsis"
      ]
     },
     "metadata": {},
     "execution_count": 106
    }
   ],
   "source": [
    "# Example\n",
    "\n",
    "eccoar_complaint_df = file_component_df[file_component_df['repository'] == 'Eccoar_Complaint']\n",
    "eccoar_gateway_df = file_component_df[file_component_df['repository'] == 'Eccoar_Gateway']\n",
    "eccoar_frontend_df = file_component_df[file_component_df['repository'] == 'eccoar_frontend']\n",
    "eccoar_reports_df = file_component_df[file_component_df['repository'] == 'Eccoar_Reports']\n",
    "eccoar_mailer_df = file_component_df[file_component_df['repository'] == 'Eccoar_Mailer']\n",
    "eccoar_users_df = file_component_df[file_component_df['repository'] == 'Eccoar_Users']\n",
    "..."
   ]
  },
  {
   "source": [
    "#### Create dataframe per release"
   ],
   "cell_type": "markdown",
   "metadata": {}
  },
  {
   "cell_type": "code",
   "execution_count": 59,
   "metadata": {
    "tags": []
   },
   "outputs": [
    {
     "output_type": "execute_result",
     "data": {
      "text/plain": [
       "dict_keys(['Eccoar_Complaint=>01-05-2021', 'Eccoar_Complaint=>03-05-2021', 'Eccoar_Complaint=>05-05-2021', 'Eccoar_Complaint=>10-05-2021', 'Eccoar_Complaint=>12-04-2021', 'Eccoar_Complaint=>17-04-2021', 'Eccoar_Complaint=>21-04-2021', 'Eccoar_Complaint=>23-03-2021', 'Eccoar_Complaint=>27-04-2021', 'Eccoar_Gateway=>01-05-2021', 'Eccoar_Gateway=>03-05-2021', 'Eccoar_Gateway=>05-05-2021', 'Eccoar_Gateway=>10-05-2021', 'Eccoar_Gateway=>12-04-2021', 'Eccoar_Gateway=>17-04-2021', 'Eccoar_Gateway=>23-03-2021', 'Eccoar_Gateway=>23-04-2021', 'Eccoar_Gateway=>28-04-2021', 'Eccoar_Mailer=>03-05-2021', 'Eccoar_Mailer=>12-04-2021', 'Eccoar_Mailer=>17-04-2021', 'Eccoar_Mailer=>22-04-2021', 'Eccoar_Mailer=>23-03-2021', 'Eccoar_Mailer=>23-04-2021', 'Eccoar_Mailer=>27-04-2021', 'Eccoar_Reports=>03-05-2021', 'Eccoar_Reports=>12-04-2021', 'Eccoar_Reports=>17-04-2021', 'Eccoar_Reports=>23-03-2021', 'Eccoar_Reports=>27-04-2021', 'Eccoar_Users=>03-05-2021', 'Eccoar_Users=>08-05-2021', 'Eccoar_Users=>08-05-2021-11h56m', 'Eccoar_Users=>08-05-2021-14h36m', 'Eccoar_Users=>10-05-2021', 'Eccoar_Users=>10-05-2021-20h46m', 'Eccoar_Users=>12-04-2021', 'Eccoar_Users=>23-03-2021', 'Eccoar_Users=>23-04-2021', 'eccoar_frontend=>03-05-2021', 'eccoar_frontend=>08-05-2021', 'eccoar_frontend=>10-05-2021', 'eccoar_frontend=>12-04-2021', 'eccoar_frontend=>17-04-2021', 'eccoar_frontend=>21-04-2021', 'eccoar_frontend=>23-03-2021', 'eccoar_frontend=>23-04-2021', 'eccoar_frontend=>26-04-2021', 'eccoar_frontend=>27-04-2021'])"
      ]
     },
     "metadata": {},
     "execution_count": 59
    }
   ],
   "source": [
    "release_list = file_component_df[['repository', 'version']].drop_duplicates().values\n",
    "\n",
    "release_df_list = {}\n",
    "\n",
    "for release in release_list:\n",
    "    df = file_component_df.loc[(file_component_df['repository'] == release[0]) & (file_component_df['version'] == release[1])]\n",
    "    release_df_list[release[0] + '=>' + release[1]] = df\n",
    "\n",
    "release_df_list.keys()"
   ]
  },
  {
   "cell_type": "markdown",
   "metadata": {},
   "source": [
    "### Metric calculations"
   ]
  },
  {
   "cell_type": "markdown",
   "metadata": {},
   "source": [
    "##### COMPLEXITY"
   ]
  },
  {
   "cell_type": "code",
   "execution_count": 67,
   "metadata": {},
   "outputs": [],
   "source": [
    "def m1(df):\n",
    "    \n",
    "    density_non_complex_files = len(df[(df['complexity'].astype(float)/df['functions'].astype(float)) < 10])/len(df)\n",
    "    \n",
    "    return density_non_complex_files"
   ]
  },
  {
   "cell_type": "markdown",
   "metadata": {},
   "source": [
    "##### COMMENTS"
   ]
  },
  {
   "cell_type": "code",
   "execution_count": 68,
   "metadata": {},
   "outputs": [],
   "source": [
    "def m2(df):\n",
    "    \n",
    "    density_comment_files = len(df[(df['comment_lines_density'].astype(float) > 10) & (df['comment_lines_density'].astype(float) < 30)])/len(df)\n",
    "    \n",
    "    return density_comment_files"
   ]
  },
  {
   "cell_type": "markdown",
   "metadata": {},
   "source": [
    "##### DUPLICATIONS"
   ]
  },
  {
   "cell_type": "code",
   "execution_count": 69,
   "metadata": {},
   "outputs": [],
   "source": [
    "def m3(df):\n",
    "    \n",
    "    duplication = len(df[(df['duplicated_lines_density'].astype(float) < 5)])/len(df)\n",
    "    \n",
    "    return duplication"
   ]
  },
  {
   "cell_type": "markdown",
   "metadata": {},
   "source": [
    "### Calculate m1, m2 and m3 for each repository"
   ]
  },
  {
   "cell_type": "code",
   "execution_count": 125,
   "metadata": {},
   "outputs": [],
   "source": [
    "def create_metrics_df(df):\n",
    "    \n",
    "    version_vec = df['version'].unique()\n",
    "    \n",
    "    m1_list = []\n",
    "    m2_list = []\n",
    "    m3_list = []\n",
    "    repository_list = []\n",
    "    version_list = []\n",
    "    \n",
    "    metrics_df = pd.DataFrame()\n",
    "    \n",
    "    for version in version_vec:\n",
    "\n",
    "        version_df = df[df['version'] == version]\n",
    "\n",
    "        m1_list.append(m1(version_df))\n",
    "        m2_list.append(m2(version_df))\n",
    "        m3_list.append(m3(version_df))\n",
    "        repository_list.append(version_df['repository'].iloc[0])\n",
    "        version_list.append(version)\n",
    "        \n",
    "    metrics_df = pd.DataFrame({'m1': m1_list,\n",
    "                               'm2': m2_list,\n",
    "                               'm3': m3_list,\n",
    "                               'm7': [ None for i in m1_list],\n",
    "                               'm8': [ None for i in m1_list],\n",
    "                               'm9': [ None for i in m1_list],\n",
    "                               'repository': repository_list, \n",
    "                               'version': version_list})\n",
    "        \n",
    "    return metrics_df"
   ]
  },
  {
   "cell_type": "code",
   "execution_count": 126,
   "metadata": {},
   "outputs": [],
   "source": [
    "eccoar_gateway_metrics = create_metrics_df(eccoar_gateway_df)\n",
    "eccoar_complaint_metrics = create_metrics_df(eccoar_complaint_df)\n",
    "eccoar_frontend_metrics = create_metrics_df(eccoar_frontend_df)\n",
    "eccoar_mailer_metrics = create_metrics_df(eccoar_mailer_df)\n",
    "eccoar_reports_metrics = create_metrics_df(eccoar_reports_df)\n",
    "eccoar_users_metrics = create_metrics_df(eccoar_users_df)\n",
    "file_component_metrics = create_metrics_df(file_component_df)"
   ]
  },
  {
   "cell_type": "code",
   "execution_count": 127,
   "metadata": {},
   "outputs": [],
   "source": [
    "def calculate_ac(df):\n",
    "    df['asc1'] = (df['m1'] + df['m2'] + df['m3']) / 3\n",
    "    df['ac1'] = df['asc1']\n",
    "    df['TOTALac1'] = df['asc1']\n",
    "\n",
    "    df['asc2'] = (df['m7'] + df['m8'] + df['m9']) / 3\n",
    "    df['ac2'] = df['asc2']\n",
    "    df['TOTALac2'] = [ randint(0,10)  for k in df.index]\n",
    "    return df"
   ]
  },
  {
   "cell_type": "code",
   "execution_count": 129,
   "metadata": {},
   "outputs": [
    {
     "output_type": "execute_result",
     "data": {
      "text/plain": [
       "      m1   m2   m3    m7    m8    m9      repository     version      asc1  \\\n",
       "0  0.875  0.0  1.0  None  None  None  Eccoar_Gateway  01-05-2021  0.625000   \n",
       "1  0.875  0.0  1.0  None  None  None  Eccoar_Gateway  03-05-2021  0.625000   \n",
       "2  0.875  0.0  1.0  None  None  None  Eccoar_Gateway  05-05-2021  0.625000   \n",
       "3  0.875  0.0  1.0  None  None  None  Eccoar_Gateway  10-05-2021  0.625000   \n",
       "4  1.000  0.0  1.0  None  None  None  Eccoar_Gateway  12-04-2021  0.666667   \n",
       "5  1.000  0.0  1.0  None  None  None  Eccoar_Gateway  17-04-2021  0.666667   \n",
       "6  1.000  0.0  1.0  None  None  None  Eccoar_Gateway  23-03-2021  0.666667   \n",
       "7  1.000  0.0  1.0  None  None  None  Eccoar_Gateway  23-04-2021  0.666667   \n",
       "8  0.875  0.0  1.0  None  None  None  Eccoar_Gateway  28-04-2021  0.625000   \n",
       "\n",
       "        ac1  TOTALac1 asc2  ac2  TOTALac2  \n",
       "0  0.625000  0.625000  NaN  NaN         3  \n",
       "1  0.625000  0.625000  NaN  NaN         2  \n",
       "2  0.625000  0.625000  NaN  NaN         9  \n",
       "3  0.625000  0.625000  NaN  NaN         5  \n",
       "4  0.666667  0.666667  NaN  NaN         3  \n",
       "5  0.666667  0.666667  NaN  NaN         6  \n",
       "6  0.666667  0.666667  NaN  NaN        10  \n",
       "7  0.666667  0.666667  NaN  NaN         1  \n",
       "8  0.625000  0.625000  NaN  NaN        10  "
      ],
      "text/html": "<div>\n<style scoped>\n    .dataframe tbody tr th:only-of-type {\n        vertical-align: middle;\n    }\n\n    .dataframe tbody tr th {\n        vertical-align: top;\n    }\n\n    .dataframe thead th {\n        text-align: right;\n    }\n</style>\n<table border=\"1\" class=\"dataframe\">\n  <thead>\n    <tr style=\"text-align: right;\">\n      <th></th>\n      <th>m1</th>\n      <th>m2</th>\n      <th>m3</th>\n      <th>m7</th>\n      <th>m8</th>\n      <th>m9</th>\n      <th>repository</th>\n      <th>version</th>\n      <th>asc1</th>\n      <th>ac1</th>\n      <th>TOTALac1</th>\n      <th>asc2</th>\n      <th>ac2</th>\n      <th>TOTALac2</th>\n    </tr>\n  </thead>\n  <tbody>\n    <tr>\n      <th>0</th>\n      <td>0.875</td>\n      <td>0.0</td>\n      <td>1.0</td>\n      <td>None</td>\n      <td>None</td>\n      <td>None</td>\n      <td>Eccoar_Gateway</td>\n      <td>01-05-2021</td>\n      <td>0.625000</td>\n      <td>0.625000</td>\n      <td>0.625000</td>\n      <td>NaN</td>\n      <td>NaN</td>\n      <td>3</td>\n    </tr>\n    <tr>\n      <th>1</th>\n      <td>0.875</td>\n      <td>0.0</td>\n      <td>1.0</td>\n      <td>None</td>\n      <td>None</td>\n      <td>None</td>\n      <td>Eccoar_Gateway</td>\n      <td>03-05-2021</td>\n      <td>0.625000</td>\n      <td>0.625000</td>\n      <td>0.625000</td>\n      <td>NaN</td>\n      <td>NaN</td>\n      <td>2</td>\n    </tr>\n    <tr>\n      <th>2</th>\n      <td>0.875</td>\n      <td>0.0</td>\n      <td>1.0</td>\n      <td>None</td>\n      <td>None</td>\n      <td>None</td>\n      <td>Eccoar_Gateway</td>\n      <td>05-05-2021</td>\n      <td>0.625000</td>\n      <td>0.625000</td>\n      <td>0.625000</td>\n      <td>NaN</td>\n      <td>NaN</td>\n      <td>9</td>\n    </tr>\n    <tr>\n      <th>3</th>\n      <td>0.875</td>\n      <td>0.0</td>\n      <td>1.0</td>\n      <td>None</td>\n      <td>None</td>\n      <td>None</td>\n      <td>Eccoar_Gateway</td>\n      <td>10-05-2021</td>\n      <td>0.625000</td>\n      <td>0.625000</td>\n      <td>0.625000</td>\n      <td>NaN</td>\n      <td>NaN</td>\n      <td>5</td>\n    </tr>\n    <tr>\n      <th>4</th>\n      <td>1.000</td>\n      <td>0.0</td>\n      <td>1.0</td>\n      <td>None</td>\n      <td>None</td>\n      <td>None</td>\n      <td>Eccoar_Gateway</td>\n      <td>12-04-2021</td>\n      <td>0.666667</td>\n      <td>0.666667</td>\n      <td>0.666667</td>\n      <td>NaN</td>\n      <td>NaN</td>\n      <td>3</td>\n    </tr>\n    <tr>\n      <th>5</th>\n      <td>1.000</td>\n      <td>0.0</td>\n      <td>1.0</td>\n      <td>None</td>\n      <td>None</td>\n      <td>None</td>\n      <td>Eccoar_Gateway</td>\n      <td>17-04-2021</td>\n      <td>0.666667</td>\n      <td>0.666667</td>\n      <td>0.666667</td>\n      <td>NaN</td>\n      <td>NaN</td>\n      <td>6</td>\n    </tr>\n    <tr>\n      <th>6</th>\n      <td>1.000</td>\n      <td>0.0</td>\n      <td>1.0</td>\n      <td>None</td>\n      <td>None</td>\n      <td>None</td>\n      <td>Eccoar_Gateway</td>\n      <td>23-03-2021</td>\n      <td>0.666667</td>\n      <td>0.666667</td>\n      <td>0.666667</td>\n      <td>NaN</td>\n      <td>NaN</td>\n      <td>10</td>\n    </tr>\n    <tr>\n      <th>7</th>\n      <td>1.000</td>\n      <td>0.0</td>\n      <td>1.0</td>\n      <td>None</td>\n      <td>None</td>\n      <td>None</td>\n      <td>Eccoar_Gateway</td>\n      <td>23-04-2021</td>\n      <td>0.666667</td>\n      <td>0.666667</td>\n      <td>0.666667</td>\n      <td>NaN</td>\n      <td>NaN</td>\n      <td>1</td>\n    </tr>\n    <tr>\n      <th>8</th>\n      <td>0.875</td>\n      <td>0.0</td>\n      <td>1.0</td>\n      <td>None</td>\n      <td>None</td>\n      <td>None</td>\n      <td>Eccoar_Gateway</td>\n      <td>28-04-2021</td>\n      <td>0.625000</td>\n      <td>0.625000</td>\n      <td>0.625000</td>\n      <td>NaN</td>\n      <td>NaN</td>\n      <td>10</td>\n    </tr>\n  </tbody>\n</table>\n</div>"
     },
     "metadata": {},
     "execution_count": 129
    }
   ],
   "source": [
    "eccoar_gateway_metrics = calculate_ac(eccoar_gateway_metrics)\n",
    "eccoar_complaint_metrics = calculate_ac(eccoar_complaint_metrics)\n",
    "eccoar_frontend_metrics = calculate_ac(eccoar_frontend_metrics)\n",
    "eccoar_mailer_metrics = calculate_ac(eccoar_mailer_metrics)\n",
    "eccoar_reports_metrics = calculate_ac(eccoar_reports_metrics)\n",
    "eccoar_users_metrics = calculate_ac(eccoar_users_metrics)\n",
    "file_component_metrics = calculate_ac(file_component_metrics)"
   ]
  },
  {
   "cell_type": "code",
   "execution_count": 109,
   "metadata": {},
   "outputs": [],
   "source": [
    "def plot_linear_regression(df):\n",
    "    sns.regplot(x=df[\"TOTALac1\"], y=df[\"TOTALac2\"], line_kws={\"color\":\"r\",\"alpha\":0.7,\"lw\":5})\n",
    "    plt.show()"
   ]
  },
  {
   "cell_type": "code",
   "execution_count": 131,
   "metadata": {},
   "outputs": [
    {
     "output_type": "display_data",
     "data": {
      "text/plain": "<Figure size 432x288 with 1 Axes>",
      "image/png": "[encoded data removed]"
     },
     "metadata": {
      "image/png": {
       "width": 410,
       "height": 278
      }
     }
    }
   ],
   "source": [
    "plot_linear_regression(eccoar_frontend_metrics)"
   ]
  },
  {
   "cell_type": "markdown",
   "metadata": {},
   "source": [
    "### Data visualization\n",
    "\n",
    "- You must do this for each of your repositories"
   ]
  },
  {
   "cell_type": "code",
   "execution_count": null,
   "metadata": {},
   "outputs": [],
   "source": [
    "fig = plt.figure(figsize=(20, 10))\n",
    "\n",
    "plt.plot(repo1['m1'], linewidth=3, marker='o', markersize=10)"
   ]
  },
  {
   "cell_type": "code",
   "execution_count": null,
   "metadata": {},
   "outputs": [],
   "source": [
    "fig = plt.figure(figsize=(20, 10))\n",
    "\n",
    "plt.plot(repo1['m2'], linewidth=3, marker='o', markersize=10)"
   ]
  },
  {
   "cell_type": "code",
   "execution_count": null,
   "metadata": {},
   "outputs": [],
   "source": [
    "fig = plt.figure(figsize=(20, 10))\n",
    "\n",
    "plt.plot(repo1['m3'], linewidth=3, marker='o', markersize=10)"
   ]
  },
  {
   "cell_type": "code",
   "execution_count": null,
   "metadata": {},
   "outputs": [],
   "source": [
    "fig = plt.figure(figsize=(20, 10))\n",
    "\n",
    "plt.plot(repo1['m1'], linewidth=3, marker='o', markersize=10)\n",
    "plt.plot(repo1['m2'], linewidth=3, marker='o', markersize=10)\n",
    "plt.plot(repo1['m3'], linewidth=3, marker='o', markersize=10)"
   ]
  },
  {
   "cell_type": "markdown",
   "metadata": {},
   "source": [
    "### Sub characteristic aggregation\n",
    "\n",
    "- You must do this for each of your repositories"
   ]
  },
  {
   "cell_type": "code",
   "execution_count": null,
   "metadata": {},
   "outputs": [],
   "source": [
    "psc1 = 1\n",
    "pm1 = 0.33\n",
    "pm2 = 0.33\n",
    "pm3 = 0.33\n",
    "\n",
    "repo1['asc1'] = ((repo1['m1']*pm1)+(repo1['m2']*pm2)+(repo1['m3']*pm3))*psc1\n",
    "repo2['asc1'] = ((repo2['m1']*pm1)+(repo2['m2']*pm2)+(repo2['m3']*pm3))*psc1\n",
    "..."
   ]
  },
  {
   "cell_type": "code",
   "execution_count": null,
   "metadata": {},
   "outputs": [],
   "source": [
    "fig = plt.figure(figsize=(20, 10))\n",
    "\n",
    "plt.plot(repo1['asc1'], linewidth=3, marker='o', markersize=10)"
   ]
  },
  {
   "cell_type": "code",
   "execution_count": null,
   "metadata": {},
   "outputs": [],
   "source": [
    "fig = plt.figure(figsize=(20, 10))\n",
    "\n",
    "plt.plot(repo2['asc1'], linewidth=3, marker='o', markersize=10)"
   ]
  },
  {
   "cell_type": "code",
   "execution_count": null,
   "metadata": {},
   "outputs": [],
   "source": [
    "fig = plt.figure(figsize=(20, 10))\n",
    "\n",
    "\n",
    "plt.plot(repo1['asc1'], linewidth=3, marker='o', markersize=5)\n",
    "plt.plot(repo2['asc1'], linewidth=3, marker='o', markersize=5)\n",
    "..."
   ]
  },
  {
   "cell_type": "code",
   "execution_count": null,
   "metadata": {},
   "outputs": [],
   "source": [
    "metrics_df = pd.concat([repo1_metrics, repo2_metrics, ...], ignore_index=True)\n",
    "\n",
    "metrics_df['ac1'] = metrics_df['asc1'] * 1\n",
    "metrics_df['total'] = metrics_df['asc1'] * 1"
   ]
  },
  {
   "cell_type": "code",
   "execution_count": null,
   "metadata": {},
   "outputs": [],
   "source": [
    "metrics_df"
   ]
  },
  {
   "cell_type": "code",
   "execution_count": null,
   "metadata": {},
   "outputs": [],
   "source": [
    "metrics_df.to_excel('data/metrics_df.xlsx', index = False)"
   ]
  }
 ],
 "metadata": {
  "kernelspec": {
   "display_name": "Python 3",
   "language": "python",
   "name": "python3"
  },
  "language_info": {
   "codemirror_mode": {
    "name": "ipython",
    "version": 3
   },
   "file_extension": ".py",
   "mimetype": "text/x-python",
   "name": "python",
   "nbconvert_exporter": "python",
   "pygments_lexer": "ipython3",
   "version": "3.9.2"
  }
 },
 "nbformat": 4,
 "nbformat_minor": 4
}